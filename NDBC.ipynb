{
 "cells": [
  {
   "cell_type": "code",
   "execution_count": 107,
   "metadata": {},
   "outputs": [],
   "source": [
    "import numpy as np\n",
    "import pandas as pd\n",
    "import re\n",
    "import datetime"
   ]
  },
  {
   "cell_type": "code",
   "execution_count": 108,
   "metadata": {},
   "outputs": [],
   "source": [
    "data = 'https://www.ndbc.noaa.gov/data/realtime2/46029.spec'\n",
    "article_read = pd.read_csv(data, sep='\\s+', delimiter=' ', encoding=\"utf-8\", skipinitialspace=True)"
   ]
  },
  {
   "cell_type": "code",
   "execution_count": 109,
   "metadata": {},
   "outputs": [
    {
     "data": {
      "text/html": [
       "<div>\n",
       "<style scoped>\n",
       "    .dataframe tbody tr th:only-of-type {\n",
       "        vertical-align: middle;\n",
       "    }\n",
       "\n",
       "    .dataframe tbody tr th {\n",
       "        vertical-align: top;\n",
       "    }\n",
       "\n",
       "    .dataframe thead th {\n",
       "        text-align: right;\n",
       "    }\n",
       "</style>\n",
       "<table border=\"1\" class=\"dataframe\">\n",
       "  <thead>\n",
       "    <tr style=\"text-align: right;\">\n",
       "      <th></th>\n",
       "      <th>#YY</th>\n",
       "      <th>MM</th>\n",
       "      <th>DD</th>\n",
       "      <th>hh</th>\n",
       "      <th>mm</th>\n",
       "      <th>WVHT</th>\n",
       "      <th>SwH</th>\n",
       "      <th>SwP</th>\n",
       "      <th>WWH</th>\n",
       "      <th>WWP</th>\n",
       "      <th>SwD</th>\n",
       "      <th>WWD</th>\n",
       "      <th>STEEPNESS</th>\n",
       "      <th>APD</th>\n",
       "      <th>MWD</th>\n",
       "    </tr>\n",
       "  </thead>\n",
       "  <tbody>\n",
       "    <tr>\n",
       "      <th>0</th>\n",
       "      <td>#yr</td>\n",
       "      <td>mo</td>\n",
       "      <td>dy</td>\n",
       "      <td>hr</td>\n",
       "      <td>mn</td>\n",
       "      <td>m</td>\n",
       "      <td>m</td>\n",
       "      <td>sec</td>\n",
       "      <td>m</td>\n",
       "      <td>sec</td>\n",
       "      <td>-</td>\n",
       "      <td>degT</td>\n",
       "      <td>-</td>\n",
       "      <td>sec</td>\n",
       "      <td>degT</td>\n",
       "    </tr>\n",
       "    <tr>\n",
       "      <th>1</th>\n",
       "      <td>2019</td>\n",
       "      <td>03</td>\n",
       "      <td>21</td>\n",
       "      <td>21</td>\n",
       "      <td>00</td>\n",
       "      <td>1.7</td>\n",
       "      <td>1.6</td>\n",
       "      <td>12.1</td>\n",
       "      <td>0.6</td>\n",
       "      <td>4.8</td>\n",
       "      <td>W</td>\n",
       "      <td>SSW</td>\n",
       "      <td>SWELL</td>\n",
       "      <td>7.2</td>\n",
       "      <td>280</td>\n",
       "    </tr>\n",
       "    <tr>\n",
       "      <th>2</th>\n",
       "      <td>2019</td>\n",
       "      <td>03</td>\n",
       "      <td>21</td>\n",
       "      <td>20</td>\n",
       "      <td>00</td>\n",
       "      <td>1.9</td>\n",
       "      <td>1.8</td>\n",
       "      <td>12.1</td>\n",
       "      <td>0.6</td>\n",
       "      <td>3.8</td>\n",
       "      <td>WSW</td>\n",
       "      <td>S</td>\n",
       "      <td>SWELL</td>\n",
       "      <td>7.4</td>\n",
       "      <td>245</td>\n",
       "    </tr>\n",
       "    <tr>\n",
       "      <th>3</th>\n",
       "      <td>2019</td>\n",
       "      <td>03</td>\n",
       "      <td>21</td>\n",
       "      <td>19</td>\n",
       "      <td>00</td>\n",
       "      <td>1.9</td>\n",
       "      <td>1.8</td>\n",
       "      <td>12.9</td>\n",
       "      <td>0.7</td>\n",
       "      <td>5.3</td>\n",
       "      <td>W</td>\n",
       "      <td>SW</td>\n",
       "      <td>SWELL</td>\n",
       "      <td>7.3</td>\n",
       "      <td>270</td>\n",
       "    </tr>\n",
       "    <tr>\n",
       "      <th>4</th>\n",
       "      <td>2019</td>\n",
       "      <td>03</td>\n",
       "      <td>21</td>\n",
       "      <td>18</td>\n",
       "      <td>00</td>\n",
       "      <td>1.9</td>\n",
       "      <td>1.8</td>\n",
       "      <td>10.8</td>\n",
       "      <td>0.6</td>\n",
       "      <td>3.7</td>\n",
       "      <td>W</td>\n",
       "      <td>SSW</td>\n",
       "      <td>SWELL</td>\n",
       "      <td>7.1</td>\n",
       "      <td>261</td>\n",
       "    </tr>\n",
       "  </tbody>\n",
       "</table>\n",
       "</div>"
      ],
      "text/plain": [
       "    #YY  MM  DD  hh  mm WVHT  SwH   SwP  WWH  WWP  SwD   WWD STEEPNESS  APD  \\\n",
       "0   #yr  mo  dy  hr  mn    m    m   sec    m  sec    -  degT         -  sec   \n",
       "1  2019  03  21  21  00  1.7  1.6  12.1  0.6  4.8    W   SSW     SWELL  7.2   \n",
       "2  2019  03  21  20  00  1.9  1.8  12.1  0.6  3.8  WSW     S     SWELL  7.4   \n",
       "3  2019  03  21  19  00  1.9  1.8  12.9  0.7  5.3    W    SW     SWELL  7.3   \n",
       "4  2019  03  21  18  00  1.9  1.8  10.8  0.6  3.7    W   SSW     SWELL  7.1   \n",
       "\n",
       "    MWD  \n",
       "0  degT  \n",
       "1   280  \n",
       "2   245  \n",
       "3   270  \n",
       "4   261  "
      ]
     },
     "execution_count": 109,
     "metadata": {},
     "output_type": "execute_result"
    }
   ],
   "source": [
    "article_read.head()"
   ]
  },
  {
   "cell_type": "code",
   "execution_count": 110,
   "metadata": {},
   "outputs": [],
   "source": [
    "short_table = article_read.drop(article_read.iloc[:,3:6,], axis=1)"
   ]
  },
  {
   "cell_type": "code",
   "execution_count": 111,
   "metadata": {},
   "outputs": [],
   "source": [
    "short_table = short_table.drop(['STEEPNESS', 'APD', 'MWD'], axis=1)"
   ]
  },
  {
   "cell_type": "code",
   "execution_count": 112,
   "metadata": {},
   "outputs": [
    {
     "data": {
      "text/plain": [
       "'2019-03-21'"
      ]
     },
     "execution_count": 112,
     "metadata": {},
     "output_type": "execute_result"
    }
   ],
   "source": [
    "d = datetime.datetime.today().strftime('%Y-%m-%d')\n",
    "d"
   ]
  },
  {
   "cell_type": "code",
   "execution_count": 113,
   "metadata": {},
   "outputs": [
    {
     "data": {
      "text/plain": [
       "datetime.date(2019, 3, 21)"
      ]
     },
     "execution_count": 113,
     "metadata": {},
     "output_type": "execute_result"
    }
   ],
   "source": [
    "today_date = datetime.date.today()\n",
    "today_date"
   ]
  },
  {
   "cell_type": "code",
   "execution_count": 114,
   "metadata": {},
   "outputs": [],
   "source": [
    "short_table = short_table.rename(columns={'#YY': 'YY'})"
   ]
  },
  {
   "cell_type": "code",
   "execution_count": 115,
   "metadata": {},
   "outputs": [],
   "source": [
    "date = (short_table.YY + '-' + short_table.MM + '-' + short_table.DD)\n",
    "short_table['Date'] = date"
   ]
  },
  {
   "cell_type": "code",
   "execution_count": 116,
   "metadata": {},
   "outputs": [],
   "source": [
    "data_table = short_table.drop(short_table.columns[[0,1,2]], axis=1)\n",
    "data_table = data_table[data_table['Date']==d]"
   ]
  },
  {
   "cell_type": "code",
   "execution_count": 117,
   "metadata": {},
   "outputs": [],
   "source": [
    "data_table['SwH'] = data_table.SwH.astype(float)\n",
    "data_table['SwP'] = data_table.SwP.astype(float)\n",
    "data_table['WWH'] = data_table.WWH.astype(float)\n",
    "data_table['WWP'] = data_table.WWP.astype(float)"
   ]
  },
  {
   "cell_type": "code",
   "execution_count": 118,
   "metadata": {},
   "outputs": [
    {
     "data": {
      "text/plain": [
       "SwH     float64\n",
       "SwP     float64\n",
       "WWH     float64\n",
       "WWP     float64\n",
       "SwD      object\n",
       "WWD      object\n",
       "Date     object\n",
       "dtype: object"
      ]
     },
     "execution_count": 118,
     "metadata": {},
     "output_type": "execute_result"
    }
   ],
   "source": [
    "data_table.dtypes"
   ]
  },
  {
   "cell_type": "code",
   "execution_count": 119,
   "metadata": {},
   "outputs": [],
   "source": [
    "wave = data_table.SwH * data_table.SwP\n",
    "data_table['Wave'] = wave"
   ]
  },
  {
   "cell_type": "code",
   "execution_count": 120,
   "metadata": {},
   "outputs": [
    {
     "data": {
      "text/plain": [
       "array(['degT', 'SSW', 'S', 'SW', 'ESE', 'SSE', 'SE', 'E', 'WSW', 'ENE',\n",
       "       'N', 'W', 'NNE', 'WNW', 'NE', 'NW', 'NNW'], dtype=object)"
      ]
     },
     "execution_count": 120,
     "metadata": {},
     "output_type": "execute_result"
    }
   ],
   "source": [
    "article_read.WWD.unique()"
   ]
  },
  {
   "cell_type": "code",
   "execution_count": 121,
   "metadata": {},
   "outputs": [
    {
     "data": {
      "text/html": [
       "<div>\n",
       "<style scoped>\n",
       "    .dataframe tbody tr th:only-of-type {\n",
       "        vertical-align: middle;\n",
       "    }\n",
       "\n",
       "    .dataframe tbody tr th {\n",
       "        vertical-align: top;\n",
       "    }\n",
       "\n",
       "    .dataframe thead th {\n",
       "        text-align: right;\n",
       "    }\n",
       "</style>\n",
       "<table border=\"1\" class=\"dataframe\">\n",
       "  <thead>\n",
       "    <tr style=\"text-align: right;\">\n",
       "      <th></th>\n",
       "      <th>WWD</th>\n",
       "      <th>ScoreWWD</th>\n",
       "    </tr>\n",
       "  </thead>\n",
       "  <tbody>\n",
       "    <tr>\n",
       "      <th>0</th>\n",
       "      <td>SW</td>\n",
       "      <td>1</td>\n",
       "    </tr>\n",
       "    <tr>\n",
       "      <th>1</th>\n",
       "      <td>SSW</td>\n",
       "      <td>1</td>\n",
       "    </tr>\n",
       "    <tr>\n",
       "      <th>2</th>\n",
       "      <td>S</td>\n",
       "      <td>3</td>\n",
       "    </tr>\n",
       "    <tr>\n",
       "      <th>3</th>\n",
       "      <td>ESE</td>\n",
       "      <td>1</td>\n",
       "    </tr>\n",
       "    <tr>\n",
       "      <th>4</th>\n",
       "      <td>SSE</td>\n",
       "      <td>1</td>\n",
       "    </tr>\n",
       "  </tbody>\n",
       "</table>\n",
       "</div>"
      ],
      "text/plain": [
       "   WWD  ScoreWWD\n",
       "0   SW         1\n",
       "1  SSW         1\n",
       "2    S         3\n",
       "3  ESE         1\n",
       "4  SSE         1"
      ]
     },
     "execution_count": 121,
     "metadata": {},
     "output_type": "execute_result"
    }
   ],
   "source": [
    "wwd = pd.DataFrame({\"WWD\": [ 'SW', 'SSW', 'S', 'ESE', 'SSE', 'SE', 'E', 'WSW', 'ENE',\n",
    "       'N', 'W', 'NNE', 'WNW', 'NE', 'NW', 'NNW' ], \"ScoreWWD\": [1, 1, 3 ,1 ,1 ,4 ,5 ,1 ,1 ,1 ,1 ,1 , 1, 4,1,1]})\n",
    "wwd.head()"
   ]
  },
  {
   "cell_type": "code",
   "execution_count": 122,
   "metadata": {},
   "outputs": [],
   "source": [
    "data_table =pd.merge(data_table, wwd)"
   ]
  },
  {
   "cell_type": "code",
   "execution_count": 123,
   "metadata": {},
   "outputs": [],
   "source": [
    "def scoreWave(column):\n",
    "    if column > 30 :\n",
    "        score = 5\n",
    "    elif column >= 25 :\n",
    "        score = 4\n",
    "    elif column >= 20 :\n",
    "        score = 3\n",
    "    elif column >= 11 :\n",
    "        score = 2\n",
    "    else:\n",
    "        score =1\n",
    "    return score "
   ]
  },
  {
   "cell_type": "code",
   "execution_count": 124,
   "metadata": {},
   "outputs": [],
   "source": [
    "def scoreSwp(column):\n",
    "    if column >= 16 :\n",
    "        score = 5\n",
    "    elif column >= 12 :\n",
    "        score = 4\n",
    "    elif column >= 10 :\n",
    "        score = 4\n",
    "    else:\n",
    "        score =1\n",
    "    return score "
   ]
  },
  {
   "cell_type": "code",
   "execution_count": 125,
   "metadata": {},
   "outputs": [],
   "source": [
    "data_table['scoreWave'] = data_table['Wave'].map(scoreWave)"
   ]
  },
  {
   "cell_type": "code",
   "execution_count": 126,
   "metadata": {},
   "outputs": [
    {
     "data": {
      "text/plain": [
       "SwH                                                       42.4\n",
       "SwP                                                      278.5\n",
       "WWH                                                       12.3\n",
       "WWP                                                       94.3\n",
       "SwD                       WWWWWWWWNWWWSWWWSWWWSWWWWSWWNWWWWNWW\n",
       "WWD            SSWSSWSSWSSWSSWSSWSSWSSWSSWSSSSSSSWSWSWSWSWSWSW\n",
       "Date         2019-03-212019-03-212019-03-212019-03-212019-0...\n",
       "Wave                                                    537.46\n",
       "ScoreWWD                                                    34\n",
       "scoreWave                                                   75\n",
       "dtype: object"
      ]
     },
     "execution_count": 126,
     "metadata": {},
     "output_type": "execute_result"
    }
   ],
   "source": [
    "data_table.apply(np.sum, axis=0)"
   ]
  },
  {
   "cell_type": "code",
   "execution_count": 129,
   "metadata": {},
   "outputs": [],
   "source": [
    "data_table['scoreSwp'] = data_table['SwP'].map(scoreSwp)"
   ]
  },
  {
   "cell_type": "code",
   "execution_count": 130,
   "metadata": {},
   "outputs": [],
   "source": [
    "data_table['Score'] = 0"
   ]
  },
  {
   "cell_type": "code",
   "execution_count": 131,
   "metadata": {},
   "outputs": [
    {
     "data": {
      "text/html": [
       "<div>\n",
       "<style scoped>\n",
       "    .dataframe tbody tr th:only-of-type {\n",
       "        vertical-align: middle;\n",
       "    }\n",
       "\n",
       "    .dataframe tbody tr th {\n",
       "        vertical-align: top;\n",
       "    }\n",
       "\n",
       "    .dataframe thead th {\n",
       "        text-align: right;\n",
       "    }\n",
       "</style>\n",
       "<table border=\"1\" class=\"dataframe\">\n",
       "  <thead>\n",
       "    <tr style=\"text-align: right;\">\n",
       "      <th></th>\n",
       "      <th>SwH</th>\n",
       "      <th>SwP</th>\n",
       "      <th>WWH</th>\n",
       "      <th>WWP</th>\n",
       "      <th>SwD</th>\n",
       "      <th>WWD</th>\n",
       "      <th>Date</th>\n",
       "      <th>Wave</th>\n",
       "      <th>ScoreWWD</th>\n",
       "      <th>scoreWave</th>\n",
       "      <th>scoreSwp</th>\n",
       "      <th>Score</th>\n",
       "    </tr>\n",
       "  </thead>\n",
       "  <tbody>\n",
       "    <tr>\n",
       "      <th>0</th>\n",
       "      <td>1.6</td>\n",
       "      <td>12.1</td>\n",
       "      <td>0.6</td>\n",
       "      <td>4.8</td>\n",
       "      <td>W</td>\n",
       "      <td>SSW</td>\n",
       "      <td>2019-03-21</td>\n",
       "      <td>19.36</td>\n",
       "      <td>1</td>\n",
       "      <td>2</td>\n",
       "      <td>4</td>\n",
       "      <td>0</td>\n",
       "    </tr>\n",
       "    <tr>\n",
       "      <th>1</th>\n",
       "      <td>1.8</td>\n",
       "      <td>10.8</td>\n",
       "      <td>0.6</td>\n",
       "      <td>3.7</td>\n",
       "      <td>W</td>\n",
       "      <td>SSW</td>\n",
       "      <td>2019-03-21</td>\n",
       "      <td>19.44</td>\n",
       "      <td>1</td>\n",
       "      <td>2</td>\n",
       "      <td>4</td>\n",
       "      <td>0</td>\n",
       "    </tr>\n",
       "    <tr>\n",
       "      <th>2</th>\n",
       "      <td>2.1</td>\n",
       "      <td>12.1</td>\n",
       "      <td>0.5</td>\n",
       "      <td>3.6</td>\n",
       "      <td>W</td>\n",
       "      <td>SSW</td>\n",
       "      <td>2019-03-21</td>\n",
       "      <td>25.41</td>\n",
       "      <td>1</td>\n",
       "      <td>4</td>\n",
       "      <td>4</td>\n",
       "      <td>0</td>\n",
       "    </tr>\n",
       "    <tr>\n",
       "      <th>3</th>\n",
       "      <td>2.1</td>\n",
       "      <td>12.1</td>\n",
       "      <td>0.5</td>\n",
       "      <td>5.0</td>\n",
       "      <td>W</td>\n",
       "      <td>SSW</td>\n",
       "      <td>2019-03-21</td>\n",
       "      <td>25.41</td>\n",
       "      <td>1</td>\n",
       "      <td>4</td>\n",
       "      <td>4</td>\n",
       "      <td>0</td>\n",
       "    </tr>\n",
       "    <tr>\n",
       "      <th>4</th>\n",
       "      <td>2.0</td>\n",
       "      <td>13.8</td>\n",
       "      <td>0.5</td>\n",
       "      <td>4.5</td>\n",
       "      <td>W</td>\n",
       "      <td>SSW</td>\n",
       "      <td>2019-03-21</td>\n",
       "      <td>27.60</td>\n",
       "      <td>1</td>\n",
       "      <td>4</td>\n",
       "      <td>4</td>\n",
       "      <td>0</td>\n",
       "    </tr>\n",
       "  </tbody>\n",
       "</table>\n",
       "</div>"
      ],
      "text/plain": [
       "   SwH   SwP  WWH  WWP SwD  WWD        Date   Wave  ScoreWWD  scoreWave  \\\n",
       "0  1.6  12.1  0.6  4.8   W  SSW  2019-03-21  19.36         1          2   \n",
       "1  1.8  10.8  0.6  3.7   W  SSW  2019-03-21  19.44         1          2   \n",
       "2  2.1  12.1  0.5  3.6   W  SSW  2019-03-21  25.41         1          4   \n",
       "3  2.1  12.1  0.5  5.0   W  SSW  2019-03-21  25.41         1          4   \n",
       "4  2.0  13.8  0.5  4.5   W  SSW  2019-03-21  27.60         1          4   \n",
       "\n",
       "   scoreSwp  Score  \n",
       "0         4      0  \n",
       "1         4      0  \n",
       "2         4      0  \n",
       "3         4      0  \n",
       "4         4      0  "
      ]
     },
     "execution_count": 131,
     "metadata": {},
     "output_type": "execute_result"
    }
   ],
   "source": [
    "data_table.head()"
   ]
  },
  {
   "cell_type": "code",
   "execution_count": null,
   "metadata": {},
   "outputs": [],
   "source": []
  }
 ],
 "metadata": {
  "kernelspec": {
   "display_name": "Python 3",
   "language": "python",
   "name": "python3"
  },
  "language_info": {
   "codemirror_mode": {
    "name": "ipython",
    "version": 3
   },
   "file_extension": ".py",
   "mimetype": "text/x-python",
   "name": "python",
   "nbconvert_exporter": "python",
   "pygments_lexer": "ipython3",
   "version": "3.7.1"
  }
 },
 "nbformat": 4,
 "nbformat_minor": 2
}
