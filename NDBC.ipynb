{
 "cells": [
  {
   "cell_type": "code",
   "execution_count": 525,
   "metadata": {},
   "outputs": [],
   "source": [
    "import numpy as np\n",
    "import pandas as pd\n",
    "import re\n",
    "import datetime"
   ]
  },
  {
   "cell_type": "markdown",
   "metadata": {},
   "source": [
    "# Code"
   ]
  },
  {
   "cell_type": "code",
   "execution_count": 526,
   "metadata": {},
   "outputs": [],
   "source": [
    "data = 'https://www.ndbc.noaa.gov/data/realtime2/46029.spec'\n",
    "article_read = pd.read_csv(data, sep='\\s+', delimiter=' ', encoding=\"utf-8\", skipinitialspace=True)"
   ]
  },
  {
   "cell_type": "code",
   "execution_count": 527,
   "metadata": {},
   "outputs": [
    {
     "data": {
      "text/html": [
       "<div>\n",
       "<style scoped>\n",
       "    .dataframe tbody tr th:only-of-type {\n",
       "        vertical-align: middle;\n",
       "    }\n",
       "\n",
       "    .dataframe tbody tr th {\n",
       "        vertical-align: top;\n",
       "    }\n",
       "\n",
       "    .dataframe thead th {\n",
       "        text-align: right;\n",
       "    }\n",
       "</style>\n",
       "<table border=\"1\" class=\"dataframe\">\n",
       "  <thead>\n",
       "    <tr style=\"text-align: right;\">\n",
       "      <th></th>\n",
       "      <th>#YY</th>\n",
       "      <th>MM</th>\n",
       "      <th>DD</th>\n",
       "      <th>hh</th>\n",
       "      <th>mm</th>\n",
       "      <th>WVHT</th>\n",
       "      <th>SwH</th>\n",
       "      <th>SwP</th>\n",
       "      <th>WWH</th>\n",
       "      <th>WWP</th>\n",
       "      <th>SwD</th>\n",
       "      <th>WWD</th>\n",
       "      <th>STEEPNESS</th>\n",
       "      <th>APD</th>\n",
       "      <th>MWD</th>\n",
       "    </tr>\n",
       "  </thead>\n",
       "  <tbody>\n",
       "    <tr>\n",
       "      <th>0</th>\n",
       "      <td>#yr</td>\n",
       "      <td>mo</td>\n",
       "      <td>dy</td>\n",
       "      <td>hr</td>\n",
       "      <td>mn</td>\n",
       "      <td>m</td>\n",
       "      <td>m</td>\n",
       "      <td>sec</td>\n",
       "      <td>m</td>\n",
       "      <td>sec</td>\n",
       "      <td>-</td>\n",
       "      <td>degT</td>\n",
       "      <td>-</td>\n",
       "      <td>sec</td>\n",
       "      <td>degT</td>\n",
       "    </tr>\n",
       "    <tr>\n",
       "      <th>1</th>\n",
       "      <td>2019</td>\n",
       "      <td>03</td>\n",
       "      <td>21</td>\n",
       "      <td>23</td>\n",
       "      <td>00</td>\n",
       "      <td>1.8</td>\n",
       "      <td>1.7</td>\n",
       "      <td>10.8</td>\n",
       "      <td>0.5</td>\n",
       "      <td>4.0</td>\n",
       "      <td>WSW</td>\n",
       "      <td>SSW</td>\n",
       "      <td>SWELL</td>\n",
       "      <td>7.4</td>\n",
       "      <td>252</td>\n",
       "    </tr>\n",
       "    <tr>\n",
       "      <th>2</th>\n",
       "      <td>2019</td>\n",
       "      <td>03</td>\n",
       "      <td>21</td>\n",
       "      <td>22</td>\n",
       "      <td>00</td>\n",
       "      <td>1.8</td>\n",
       "      <td>1.7</td>\n",
       "      <td>12.9</td>\n",
       "      <td>0.6</td>\n",
       "      <td>4.2</td>\n",
       "      <td>WSW</td>\n",
       "      <td>SSW</td>\n",
       "      <td>SWELL</td>\n",
       "      <td>7.2</td>\n",
       "      <td>243</td>\n",
       "    </tr>\n",
       "    <tr>\n",
       "      <th>3</th>\n",
       "      <td>2019</td>\n",
       "      <td>03</td>\n",
       "      <td>21</td>\n",
       "      <td>21</td>\n",
       "      <td>00</td>\n",
       "      <td>1.7</td>\n",
       "      <td>1.6</td>\n",
       "      <td>12.1</td>\n",
       "      <td>0.6</td>\n",
       "      <td>4.8</td>\n",
       "      <td>W</td>\n",
       "      <td>SSW</td>\n",
       "      <td>SWELL</td>\n",
       "      <td>7.2</td>\n",
       "      <td>280</td>\n",
       "    </tr>\n",
       "    <tr>\n",
       "      <th>4</th>\n",
       "      <td>2019</td>\n",
       "      <td>03</td>\n",
       "      <td>21</td>\n",
       "      <td>20</td>\n",
       "      <td>00</td>\n",
       "      <td>1.9</td>\n",
       "      <td>1.8</td>\n",
       "      <td>12.1</td>\n",
       "      <td>0.6</td>\n",
       "      <td>3.8</td>\n",
       "      <td>WSW</td>\n",
       "      <td>S</td>\n",
       "      <td>SWELL</td>\n",
       "      <td>7.4</td>\n",
       "      <td>245</td>\n",
       "    </tr>\n",
       "  </tbody>\n",
       "</table>\n",
       "</div>"
      ],
      "text/plain": [
       "    #YY  MM  DD  hh  mm WVHT  SwH   SwP  WWH  WWP  SwD   WWD STEEPNESS  APD  \\\n",
       "0   #yr  mo  dy  hr  mn    m    m   sec    m  sec    -  degT         -  sec   \n",
       "1  2019  03  21  23  00  1.8  1.7  10.8  0.5  4.0  WSW   SSW     SWELL  7.4   \n",
       "2  2019  03  21  22  00  1.8  1.7  12.9  0.6  4.2  WSW   SSW     SWELL  7.2   \n",
       "3  2019  03  21  21  00  1.7  1.6  12.1  0.6  4.8    W   SSW     SWELL  7.2   \n",
       "4  2019  03  21  20  00  1.9  1.8  12.1  0.6  3.8  WSW     S     SWELL  7.4   \n",
       "\n",
       "    MWD  \n",
       "0  degT  \n",
       "1   252  \n",
       "2   243  \n",
       "3   280  \n",
       "4   245  "
      ]
     },
     "execution_count": 527,
     "metadata": {},
     "output_type": "execute_result"
    }
   ],
   "source": [
    "article_read.head()"
   ]
  },
  {
   "cell_type": "code",
   "execution_count": 528,
   "metadata": {},
   "outputs": [],
   "source": [
    "short_table = article_read.drop(article_read.iloc[:,3:6,], axis=1)"
   ]
  },
  {
   "cell_type": "code",
   "execution_count": 529,
   "metadata": {},
   "outputs": [],
   "source": [
    "short_table = short_table.drop(['STEEPNESS', 'APD', 'MWD'], axis=1)"
   ]
  },
  {
   "cell_type": "code",
   "execution_count": 534,
   "metadata": {},
   "outputs": [
    {
     "data": {
      "text/plain": [
       "'2019-03-21'"
      ]
     },
     "execution_count": 534,
     "metadata": {},
     "output_type": "execute_result"
    }
   ],
   "source": [
    "d = datetime.date.today().strftime('%Y-%m-%d')\n",
    "d"
   ]
  },
  {
   "cell_type": "code",
   "execution_count": 535,
   "metadata": {},
   "outputs": [
    {
     "data": {
      "text/plain": [
       "datetime.date(2019, 3, 21)"
      ]
     },
     "execution_count": 535,
     "metadata": {},
     "output_type": "execute_result"
    }
   ],
   "source": [
    "today_date = datetime.date.today()\n",
    "today_date"
   ]
  },
  {
   "cell_type": "code",
   "execution_count": 536,
   "metadata": {},
   "outputs": [],
   "source": [
    "short_table = short_table.rename(columns={'#YY': 'YY'})"
   ]
  },
  {
   "cell_type": "code",
   "execution_count": 537,
   "metadata": {},
   "outputs": [],
   "source": [
    "date = (short_table.YY + '-' + short_table.MM + '-' + short_table.DD)\n",
    "short_table['Date'] = date"
   ]
  },
  {
   "cell_type": "code",
   "execution_count": 538,
   "metadata": {},
   "outputs": [],
   "source": [
    "data_table = short_table.drop(short_table.columns[[0,1,2]], axis=1)\n",
    "data_table = data_table[data_table['Date']==d]"
   ]
  },
  {
   "cell_type": "code",
   "execution_count": 539,
   "metadata": {},
   "outputs": [],
   "source": [
    "data_table['SwH'] = data_table.SwH.astype(float)\n",
    "data_table['SwP'] = data_table.SwP.astype(float)\n",
    "data_table['WWH'] = data_table.WWH.astype(float)\n",
    "data_table['WWP'] = data_table.WWP.astype(float)"
   ]
  },
  {
   "cell_type": "code",
   "execution_count": 540,
   "metadata": {},
   "outputs": [
    {
     "data": {
      "text/plain": [
       "SwH     float64\n",
       "SwP     float64\n",
       "WWH     float64\n",
       "WWP     float64\n",
       "SwD      object\n",
       "WWD      object\n",
       "Date     object\n",
       "dtype: object"
      ]
     },
     "execution_count": 540,
     "metadata": {},
     "output_type": "execute_result"
    }
   ],
   "source": [
    "data_table.dtypes"
   ]
  },
  {
   "cell_type": "code",
   "execution_count": 541,
   "metadata": {},
   "outputs": [],
   "source": [
    "wave = data_table.SwH * data_table.SwP\n",
    "data_table['Wave'] = wave"
   ]
  },
  {
   "cell_type": "code",
   "execution_count": 542,
   "metadata": {},
   "outputs": [
    {
     "data": {
      "text/plain": [
       "array(['degT', 'SSW', 'S', 'SW', 'ESE', 'SSE', 'SE', 'E', 'WSW', 'ENE',\n",
       "       'N', 'W', 'NNE', 'WNW', 'NE', 'NW', 'NNW'], dtype=object)"
      ]
     },
     "execution_count": 542,
     "metadata": {},
     "output_type": "execute_result"
    }
   ],
   "source": [
    "article_read.WWD.unique()"
   ]
  },
  {
   "cell_type": "code",
   "execution_count": 543,
   "metadata": {},
   "outputs": [
    {
     "data": {
      "text/html": [
       "<div>\n",
       "<style scoped>\n",
       "    .dataframe tbody tr th:only-of-type {\n",
       "        vertical-align: middle;\n",
       "    }\n",
       "\n",
       "    .dataframe tbody tr th {\n",
       "        vertical-align: top;\n",
       "    }\n",
       "\n",
       "    .dataframe thead th {\n",
       "        text-align: right;\n",
       "    }\n",
       "</style>\n",
       "<table border=\"1\" class=\"dataframe\">\n",
       "  <thead>\n",
       "    <tr style=\"text-align: right;\">\n",
       "      <th></th>\n",
       "      <th>WWD</th>\n",
       "      <th>scoreWWD</th>\n",
       "    </tr>\n",
       "  </thead>\n",
       "  <tbody>\n",
       "    <tr>\n",
       "      <th>0</th>\n",
       "      <td>SW</td>\n",
       "      <td>1</td>\n",
       "    </tr>\n",
       "    <tr>\n",
       "      <th>1</th>\n",
       "      <td>SSW</td>\n",
       "      <td>1</td>\n",
       "    </tr>\n",
       "    <tr>\n",
       "      <th>2</th>\n",
       "      <td>S</td>\n",
       "      <td>3</td>\n",
       "    </tr>\n",
       "    <tr>\n",
       "      <th>3</th>\n",
       "      <td>ESE</td>\n",
       "      <td>1</td>\n",
       "    </tr>\n",
       "    <tr>\n",
       "      <th>4</th>\n",
       "      <td>SSE</td>\n",
       "      <td>1</td>\n",
       "    </tr>\n",
       "  </tbody>\n",
       "</table>\n",
       "</div>"
      ],
      "text/plain": [
       "   WWD  scoreWWD\n",
       "0   SW         1\n",
       "1  SSW         1\n",
       "2    S         3\n",
       "3  ESE         1\n",
       "4  SSE         1"
      ]
     },
     "execution_count": 543,
     "metadata": {},
     "output_type": "execute_result"
    }
   ],
   "source": [
    "wwd = pd.DataFrame({\"WWD\": [ 'SW', 'SSW', 'S', 'ESE', 'SSE', 'SE', 'E', 'WSW', 'ENE',\n",
    "       'N', 'W', 'NNE', 'WNW', 'NE', 'NW', 'NNW' ], \"scoreWWD\": [1, 1, 3 ,1 ,1 ,4 ,5 ,1 ,1 ,1 ,1 ,1 , 1, 4,1,1]})\n",
    "wwd.head()"
   ]
  },
  {
   "cell_type": "code",
   "execution_count": 544,
   "metadata": {},
   "outputs": [
    {
     "data": {
      "text/html": [
       "<div>\n",
       "<style scoped>\n",
       "    .dataframe tbody tr th:only-of-type {\n",
       "        vertical-align: middle;\n",
       "    }\n",
       "\n",
       "    .dataframe tbody tr th {\n",
       "        vertical-align: top;\n",
       "    }\n",
       "\n",
       "    .dataframe thead th {\n",
       "        text-align: right;\n",
       "    }\n",
       "</style>\n",
       "<table border=\"1\" class=\"dataframe\">\n",
       "  <thead>\n",
       "    <tr style=\"text-align: right;\">\n",
       "      <th></th>\n",
       "      <th>SwH</th>\n",
       "      <th>SwP</th>\n",
       "      <th>WWH</th>\n",
       "      <th>WWP</th>\n",
       "      <th>SwD</th>\n",
       "      <th>WWD</th>\n",
       "      <th>Date</th>\n",
       "      <th>Wave</th>\n",
       "      <th>scoreWWD</th>\n",
       "    </tr>\n",
       "  </thead>\n",
       "  <tbody>\n",
       "    <tr>\n",
       "      <th>0</th>\n",
       "      <td>1.7</td>\n",
       "      <td>10.8</td>\n",
       "      <td>0.5</td>\n",
       "      <td>4.0</td>\n",
       "      <td>WSW</td>\n",
       "      <td>SSW</td>\n",
       "      <td>2019-03-21</td>\n",
       "      <td>18.36</td>\n",
       "      <td>1</td>\n",
       "    </tr>\n",
       "    <tr>\n",
       "      <th>1</th>\n",
       "      <td>1.7</td>\n",
       "      <td>12.9</td>\n",
       "      <td>0.6</td>\n",
       "      <td>4.2</td>\n",
       "      <td>WSW</td>\n",
       "      <td>SSW</td>\n",
       "      <td>2019-03-21</td>\n",
       "      <td>21.93</td>\n",
       "      <td>1</td>\n",
       "    </tr>\n",
       "    <tr>\n",
       "      <th>2</th>\n",
       "      <td>1.6</td>\n",
       "      <td>12.1</td>\n",
       "      <td>0.6</td>\n",
       "      <td>4.8</td>\n",
       "      <td>W</td>\n",
       "      <td>SSW</td>\n",
       "      <td>2019-03-21</td>\n",
       "      <td>19.36</td>\n",
       "      <td>1</td>\n",
       "    </tr>\n",
       "    <tr>\n",
       "      <th>3</th>\n",
       "      <td>1.8</td>\n",
       "      <td>10.8</td>\n",
       "      <td>0.6</td>\n",
       "      <td>3.7</td>\n",
       "      <td>W</td>\n",
       "      <td>SSW</td>\n",
       "      <td>2019-03-21</td>\n",
       "      <td>19.44</td>\n",
       "      <td>1</td>\n",
       "    </tr>\n",
       "    <tr>\n",
       "      <th>4</th>\n",
       "      <td>2.1</td>\n",
       "      <td>12.1</td>\n",
       "      <td>0.5</td>\n",
       "      <td>3.6</td>\n",
       "      <td>W</td>\n",
       "      <td>SSW</td>\n",
       "      <td>2019-03-21</td>\n",
       "      <td>25.41</td>\n",
       "      <td>1</td>\n",
       "    </tr>\n",
       "  </tbody>\n",
       "</table>\n",
       "</div>"
      ],
      "text/plain": [
       "   SwH   SwP  WWH  WWP  SwD  WWD        Date   Wave  scoreWWD\n",
       "0  1.7  10.8  0.5  4.0  WSW  SSW  2019-03-21  18.36         1\n",
       "1  1.7  12.9  0.6  4.2  WSW  SSW  2019-03-21  21.93         1\n",
       "2  1.6  12.1  0.6  4.8    W  SSW  2019-03-21  19.36         1\n",
       "3  1.8  10.8  0.6  3.7    W  SSW  2019-03-21  19.44         1\n",
       "4  2.1  12.1  0.5  3.6    W  SSW  2019-03-21  25.41         1"
      ]
     },
     "execution_count": 544,
     "metadata": {},
     "output_type": "execute_result"
    }
   ],
   "source": [
    "data_table =pd.merge(data_table, wwd)\n",
    "data_table.head()"
   ]
  },
  {
   "cell_type": "code",
   "execution_count": 545,
   "metadata": {},
   "outputs": [],
   "source": [
    "def scoreWave(column): \n",
    "    '''\n",
    "    This is a test:\n",
    "    >>> scoreWave(31)\n",
    "    5\n",
    "    \n",
    "    This is a test:\n",
    "    >>> scoreWave(30)\n",
    "    4\n",
    "\n",
    "    This is a test:\n",
    "    >>> scoreWave(11)\n",
    "    2\n",
    "\n",
    "    This is a test:\n",
    "    >>> scoreWave(5)\n",
    "    1\n",
    "    '''\n",
    "    \n",
    "    if column > 30 :\n",
    "        score = 5\n",
    "    elif column >= 25 :\n",
    "        score = 4\n",
    "    elif column >= 20 :\n",
    "        score = 3\n",
    "    elif column >= 11 :\n",
    "        score = 2\n",
    "    else:\n",
    "        score =1\n",
    "    return score "
   ]
  },
  {
   "cell_type": "code",
   "execution_count": 546,
   "metadata": {},
   "outputs": [],
   "source": [
    "def scoreSwp(column):\n",
    "    '''\n",
    "    This is a test:\n",
    "    >>> scoreSwp(16)\n",
    "    5\n",
    "    \n",
    "    This is a test:\n",
    "    >>> scoreSwp(15)\n",
    "    4\n",
    "    \n",
    "    This is a test:\n",
    "    >>> scoreSwp(10)\n",
    "    4\n",
    "    \n",
    "    This is a test:\n",
    "    >>> scoreSwp(5)\n",
    "    1\n",
    "    '''\n",
    "        \n",
    "    if column >= 16 :\n",
    "        score = 5\n",
    "    elif column >= 12 :\n",
    "        score = 4\n",
    "    elif column >= 10 :\n",
    "        score = 4\n",
    "    else:\n",
    "        score =1\n",
    "    return score "
   ]
  },
  {
   "cell_type": "code",
   "execution_count": 547,
   "metadata": {},
   "outputs": [],
   "source": [
    "data_table['scoreWave'] = data_table['Wave'].map(scoreWave)"
   ]
  },
  {
   "cell_type": "code",
   "execution_count": 548,
   "metadata": {},
   "outputs": [],
   "source": [
    "data_table['scoreSwP'] = data_table['SwP'].map(scoreSwp)"
   ]
  },
  {
   "cell_type": "code",
   "execution_count": 549,
   "metadata": {},
   "outputs": [
    {
     "data": {
      "text/plain": [
       "23"
      ]
     },
     "execution_count": 549,
     "metadata": {},
     "output_type": "execute_result"
    }
   ],
   "source": [
    "data_length = len(data_table)-1\n",
    "data_length"
   ]
  },
  {
   "cell_type": "code",
   "execution_count": 550,
   "metadata": {},
   "outputs": [
    {
     "data": {
      "text/html": [
       "<div>\n",
       "<style scoped>\n",
       "    .dataframe tbody tr th:only-of-type {\n",
       "        vertical-align: middle;\n",
       "    }\n",
       "\n",
       "    .dataframe tbody tr th {\n",
       "        vertical-align: top;\n",
       "    }\n",
       "\n",
       "    .dataframe thead th {\n",
       "        text-align: right;\n",
       "    }\n",
       "</style>\n",
       "<table border=\"1\" class=\"dataframe\">\n",
       "  <thead>\n",
       "    <tr style=\"text-align: right;\">\n",
       "      <th></th>\n",
       "      <th>SwH</th>\n",
       "      <th>SwP</th>\n",
       "      <th>WWH</th>\n",
       "      <th>WWP</th>\n",
       "      <th>SwD</th>\n",
       "      <th>WWD</th>\n",
       "      <th>Date</th>\n",
       "      <th>Wave</th>\n",
       "      <th>scoreWWD</th>\n",
       "      <th>scoreWave</th>\n",
       "      <th>scoreSwP</th>\n",
       "    </tr>\n",
       "  </thead>\n",
       "  <tbody>\n",
       "    <tr>\n",
       "      <th>0</th>\n",
       "      <td>1.7</td>\n",
       "      <td>10.8</td>\n",
       "      <td>0.5</td>\n",
       "      <td>4.0</td>\n",
       "      <td>WSW</td>\n",
       "      <td>SSW</td>\n",
       "      <td>2019-03-21</td>\n",
       "      <td>18.36</td>\n",
       "      <td>1</td>\n",
       "      <td>2</td>\n",
       "      <td>4</td>\n",
       "    </tr>\n",
       "    <tr>\n",
       "      <th>1</th>\n",
       "      <td>1.7</td>\n",
       "      <td>12.9</td>\n",
       "      <td>0.6</td>\n",
       "      <td>4.2</td>\n",
       "      <td>WSW</td>\n",
       "      <td>SSW</td>\n",
       "      <td>2019-03-21</td>\n",
       "      <td>21.93</td>\n",
       "      <td>1</td>\n",
       "      <td>3</td>\n",
       "      <td>4</td>\n",
       "    </tr>\n",
       "    <tr>\n",
       "      <th>2</th>\n",
       "      <td>1.6</td>\n",
       "      <td>12.1</td>\n",
       "      <td>0.6</td>\n",
       "      <td>4.8</td>\n",
       "      <td>W</td>\n",
       "      <td>SSW</td>\n",
       "      <td>2019-03-21</td>\n",
       "      <td>19.36</td>\n",
       "      <td>1</td>\n",
       "      <td>2</td>\n",
       "      <td>4</td>\n",
       "    </tr>\n",
       "    <tr>\n",
       "      <th>3</th>\n",
       "      <td>1.8</td>\n",
       "      <td>10.8</td>\n",
       "      <td>0.6</td>\n",
       "      <td>3.7</td>\n",
       "      <td>W</td>\n",
       "      <td>SSW</td>\n",
       "      <td>2019-03-21</td>\n",
       "      <td>19.44</td>\n",
       "      <td>1</td>\n",
       "      <td>2</td>\n",
       "      <td>4</td>\n",
       "    </tr>\n",
       "    <tr>\n",
       "      <th>4</th>\n",
       "      <td>2.1</td>\n",
       "      <td>12.1</td>\n",
       "      <td>0.5</td>\n",
       "      <td>3.6</td>\n",
       "      <td>W</td>\n",
       "      <td>SSW</td>\n",
       "      <td>2019-03-21</td>\n",
       "      <td>25.41</td>\n",
       "      <td>1</td>\n",
       "      <td>4</td>\n",
       "      <td>4</td>\n",
       "    </tr>\n",
       "    <tr>\n",
       "      <th>5</th>\n",
       "      <td>2.1</td>\n",
       "      <td>12.1</td>\n",
       "      <td>0.5</td>\n",
       "      <td>5.0</td>\n",
       "      <td>W</td>\n",
       "      <td>SSW</td>\n",
       "      <td>2019-03-21</td>\n",
       "      <td>25.41</td>\n",
       "      <td>1</td>\n",
       "      <td>4</td>\n",
       "      <td>4</td>\n",
       "    </tr>\n",
       "    <tr>\n",
       "      <th>6</th>\n",
       "      <td>2.0</td>\n",
       "      <td>13.8</td>\n",
       "      <td>0.5</td>\n",
       "      <td>4.5</td>\n",
       "      <td>W</td>\n",
       "      <td>SSW</td>\n",
       "      <td>2019-03-21</td>\n",
       "      <td>27.60</td>\n",
       "      <td>1</td>\n",
       "      <td>4</td>\n",
       "      <td>4</td>\n",
       "    </tr>\n",
       "    <tr>\n",
       "      <th>7</th>\n",
       "      <td>1.9</td>\n",
       "      <td>12.9</td>\n",
       "      <td>0.5</td>\n",
       "      <td>3.3</td>\n",
       "      <td>W</td>\n",
       "      <td>SSW</td>\n",
       "      <td>2019-03-21</td>\n",
       "      <td>24.51</td>\n",
       "      <td>1</td>\n",
       "      <td>3</td>\n",
       "      <td>4</td>\n",
       "    </tr>\n",
       "    <tr>\n",
       "      <th>8</th>\n",
       "      <td>1.9</td>\n",
       "      <td>12.9</td>\n",
       "      <td>0.8</td>\n",
       "      <td>3.3</td>\n",
       "      <td>W</td>\n",
       "      <td>SSW</td>\n",
       "      <td>2019-03-21</td>\n",
       "      <td>24.51</td>\n",
       "      <td>1</td>\n",
       "      <td>3</td>\n",
       "      <td>4</td>\n",
       "    </tr>\n",
       "    <tr>\n",
       "      <th>9</th>\n",
       "      <td>1.9</td>\n",
       "      <td>13.8</td>\n",
       "      <td>0.7</td>\n",
       "      <td>3.3</td>\n",
       "      <td>WNW</td>\n",
       "      <td>SSW</td>\n",
       "      <td>2019-03-21</td>\n",
       "      <td>26.22</td>\n",
       "      <td>1</td>\n",
       "      <td>4</td>\n",
       "      <td>4</td>\n",
       "    </tr>\n",
       "    <tr>\n",
       "      <th>10</th>\n",
       "      <td>2.1</td>\n",
       "      <td>13.8</td>\n",
       "      <td>0.3</td>\n",
       "      <td>4.5</td>\n",
       "      <td>W</td>\n",
       "      <td>SSW</td>\n",
       "      <td>2019-03-21</td>\n",
       "      <td>28.98</td>\n",
       "      <td>1</td>\n",
       "      <td>4</td>\n",
       "      <td>4</td>\n",
       "    </tr>\n",
       "    <tr>\n",
       "      <th>11</th>\n",
       "      <td>1.8</td>\n",
       "      <td>12.1</td>\n",
       "      <td>0.6</td>\n",
       "      <td>3.8</td>\n",
       "      <td>WSW</td>\n",
       "      <td>S</td>\n",
       "      <td>2019-03-21</td>\n",
       "      <td>21.78</td>\n",
       "      <td>3</td>\n",
       "      <td>3</td>\n",
       "      <td>4</td>\n",
       "    </tr>\n",
       "    <tr>\n",
       "      <th>12</th>\n",
       "      <td>1.8</td>\n",
       "      <td>10.8</td>\n",
       "      <td>0.6</td>\n",
       "      <td>3.6</td>\n",
       "      <td>W</td>\n",
       "      <td>S</td>\n",
       "      <td>2019-03-21</td>\n",
       "      <td>19.44</td>\n",
       "      <td>3</td>\n",
       "      <td>2</td>\n",
       "      <td>4</td>\n",
       "    </tr>\n",
       "    <tr>\n",
       "      <th>13</th>\n",
       "      <td>1.9</td>\n",
       "      <td>13.8</td>\n",
       "      <td>0.5</td>\n",
       "      <td>4.3</td>\n",
       "      <td>WSW</td>\n",
       "      <td>S</td>\n",
       "      <td>2019-03-21</td>\n",
       "      <td>26.22</td>\n",
       "      <td>3</td>\n",
       "      <td>4</td>\n",
       "      <td>4</td>\n",
       "    </tr>\n",
       "    <tr>\n",
       "      <th>14</th>\n",
       "      <td>1.9</td>\n",
       "      <td>13.8</td>\n",
       "      <td>0.5</td>\n",
       "      <td>4.0</td>\n",
       "      <td>W</td>\n",
       "      <td>S</td>\n",
       "      <td>2019-03-21</td>\n",
       "      <td>26.22</td>\n",
       "      <td>3</td>\n",
       "      <td>4</td>\n",
       "      <td>4</td>\n",
       "    </tr>\n",
       "    <tr>\n",
       "      <th>15</th>\n",
       "      <td>1.9</td>\n",
       "      <td>13.8</td>\n",
       "      <td>0.5</td>\n",
       "      <td>4.3</td>\n",
       "      <td>WSW</td>\n",
       "      <td>S</td>\n",
       "      <td>2019-03-21</td>\n",
       "      <td>26.22</td>\n",
       "      <td>3</td>\n",
       "      <td>4</td>\n",
       "      <td>4</td>\n",
       "    </tr>\n",
       "    <tr>\n",
       "      <th>16</th>\n",
       "      <td>2.0</td>\n",
       "      <td>12.9</td>\n",
       "      <td>0.6</td>\n",
       "      <td>3.4</td>\n",
       "      <td>W</td>\n",
       "      <td>S</td>\n",
       "      <td>2019-03-21</td>\n",
       "      <td>25.80</td>\n",
       "      <td>3</td>\n",
       "      <td>4</td>\n",
       "      <td>4</td>\n",
       "    </tr>\n",
       "    <tr>\n",
       "      <th>17</th>\n",
       "      <td>1.8</td>\n",
       "      <td>12.9</td>\n",
       "      <td>0.7</td>\n",
       "      <td>5.3</td>\n",
       "      <td>W</td>\n",
       "      <td>SW</td>\n",
       "      <td>2019-03-21</td>\n",
       "      <td>23.22</td>\n",
       "      <td>1</td>\n",
       "      <td>3</td>\n",
       "      <td>4</td>\n",
       "    </tr>\n",
       "    <tr>\n",
       "      <th>18</th>\n",
       "      <td>2.0</td>\n",
       "      <td>10.8</td>\n",
       "      <td>0.6</td>\n",
       "      <td>5.6</td>\n",
       "      <td>WSW</td>\n",
       "      <td>SW</td>\n",
       "      <td>2019-03-21</td>\n",
       "      <td>21.60</td>\n",
       "      <td>1</td>\n",
       "      <td>3</td>\n",
       "      <td>4</td>\n",
       "    </tr>\n",
       "    <tr>\n",
       "      <th>19</th>\n",
       "      <td>1.9</td>\n",
       "      <td>12.9</td>\n",
       "      <td>0.5</td>\n",
       "      <td>5.0</td>\n",
       "      <td>WNW</td>\n",
       "      <td>SW</td>\n",
       "      <td>2019-03-21</td>\n",
       "      <td>24.51</td>\n",
       "      <td>1</td>\n",
       "      <td>3</td>\n",
       "      <td>4</td>\n",
       "    </tr>\n",
       "    <tr>\n",
       "      <th>20</th>\n",
       "      <td>2.1</td>\n",
       "      <td>12.9</td>\n",
       "      <td>0.4</td>\n",
       "      <td>3.8</td>\n",
       "      <td>W</td>\n",
       "      <td>SW</td>\n",
       "      <td>2019-03-21</td>\n",
       "      <td>27.09</td>\n",
       "      <td>1</td>\n",
       "      <td>4</td>\n",
       "      <td>4</td>\n",
       "    </tr>\n",
       "    <tr>\n",
       "      <th>21</th>\n",
       "      <td>1.9</td>\n",
       "      <td>10.8</td>\n",
       "      <td>0.5</td>\n",
       "      <td>3.7</td>\n",
       "      <td>W</td>\n",
       "      <td>SW</td>\n",
       "      <td>2019-03-21</td>\n",
       "      <td>20.52</td>\n",
       "      <td>1</td>\n",
       "      <td>3</td>\n",
       "      <td>4</td>\n",
       "    </tr>\n",
       "    <tr>\n",
       "      <th>22</th>\n",
       "      <td>2.0</td>\n",
       "      <td>12.9</td>\n",
       "      <td>0.6</td>\n",
       "      <td>5.3</td>\n",
       "      <td>WNW</td>\n",
       "      <td>SW</td>\n",
       "      <td>2019-03-21</td>\n",
       "      <td>25.80</td>\n",
       "      <td>1</td>\n",
       "      <td>4</td>\n",
       "      <td>4</td>\n",
       "    </tr>\n",
       "    <tr>\n",
       "      <th>23</th>\n",
       "      <td>2.0</td>\n",
       "      <td>13.8</td>\n",
       "      <td>0.7</td>\n",
       "      <td>6.2</td>\n",
       "      <td>W</td>\n",
       "      <td>SW</td>\n",
       "      <td>2019-03-21</td>\n",
       "      <td>27.60</td>\n",
       "      <td>1</td>\n",
       "      <td>4</td>\n",
       "      <td>4</td>\n",
       "    </tr>\n",
       "  </tbody>\n",
       "</table>\n",
       "</div>"
      ],
      "text/plain": [
       "    SwH   SwP  WWH  WWP  SwD  WWD        Date   Wave  scoreWWD  scoreWave  \\\n",
       "0   1.7  10.8  0.5  4.0  WSW  SSW  2019-03-21  18.36         1          2   \n",
       "1   1.7  12.9  0.6  4.2  WSW  SSW  2019-03-21  21.93         1          3   \n",
       "2   1.6  12.1  0.6  4.8    W  SSW  2019-03-21  19.36         1          2   \n",
       "3   1.8  10.8  0.6  3.7    W  SSW  2019-03-21  19.44         1          2   \n",
       "4   2.1  12.1  0.5  3.6    W  SSW  2019-03-21  25.41         1          4   \n",
       "5   2.1  12.1  0.5  5.0    W  SSW  2019-03-21  25.41         1          4   \n",
       "6   2.0  13.8  0.5  4.5    W  SSW  2019-03-21  27.60         1          4   \n",
       "7   1.9  12.9  0.5  3.3    W  SSW  2019-03-21  24.51         1          3   \n",
       "8   1.9  12.9  0.8  3.3    W  SSW  2019-03-21  24.51         1          3   \n",
       "9   1.9  13.8  0.7  3.3  WNW  SSW  2019-03-21  26.22         1          4   \n",
       "10  2.1  13.8  0.3  4.5    W  SSW  2019-03-21  28.98         1          4   \n",
       "11  1.8  12.1  0.6  3.8  WSW    S  2019-03-21  21.78         3          3   \n",
       "12  1.8  10.8  0.6  3.6    W    S  2019-03-21  19.44         3          2   \n",
       "13  1.9  13.8  0.5  4.3  WSW    S  2019-03-21  26.22         3          4   \n",
       "14  1.9  13.8  0.5  4.0    W    S  2019-03-21  26.22         3          4   \n",
       "15  1.9  13.8  0.5  4.3  WSW    S  2019-03-21  26.22         3          4   \n",
       "16  2.0  12.9  0.6  3.4    W    S  2019-03-21  25.80         3          4   \n",
       "17  1.8  12.9  0.7  5.3    W   SW  2019-03-21  23.22         1          3   \n",
       "18  2.0  10.8  0.6  5.6  WSW   SW  2019-03-21  21.60         1          3   \n",
       "19  1.9  12.9  0.5  5.0  WNW   SW  2019-03-21  24.51         1          3   \n",
       "20  2.1  12.9  0.4  3.8    W   SW  2019-03-21  27.09         1          4   \n",
       "21  1.9  10.8  0.5  3.7    W   SW  2019-03-21  20.52         1          3   \n",
       "22  2.0  12.9  0.6  5.3  WNW   SW  2019-03-21  25.80         1          4   \n",
       "23  2.0  13.8  0.7  6.2    W   SW  2019-03-21  27.60         1          4   \n",
       "\n",
       "    scoreSwP  \n",
       "0          4  \n",
       "1          4  \n",
       "2          4  \n",
       "3          4  \n",
       "4          4  \n",
       "5          4  \n",
       "6          4  \n",
       "7          4  \n",
       "8          4  \n",
       "9          4  \n",
       "10         4  \n",
       "11         4  \n",
       "12         4  \n",
       "13         4  \n",
       "14         4  \n",
       "15         4  \n",
       "16         4  \n",
       "17         4  \n",
       "18         4  \n",
       "19         4  \n",
       "20         4  \n",
       "21         4  \n",
       "22         4  \n",
       "23         4  "
      ]
     },
     "execution_count": 550,
     "metadata": {},
     "output_type": "execute_result"
    }
   ],
   "source": [
    "data_table"
   ]
  },
  {
   "cell_type": "code",
   "execution_count": 551,
   "metadata": {},
   "outputs": [
    {
     "data": {
      "text/plain": [
       "1.565217391304348"
      ]
     },
     "execution_count": 551,
     "metadata": {},
     "output_type": "execute_result"
    }
   ],
   "source": [
    "totalscore = data_table['scoreWWD'].sum()/(len(data_table)-1)\n",
    "totalscore"
   ]
  },
  {
   "cell_type": "code",
   "execution_count": 552,
   "metadata": {},
   "outputs": [
    {
     "data": {
      "text/plain": [
       "2.0"
      ]
     },
     "execution_count": 552,
     "metadata": {},
     "output_type": "execute_result"
    }
   ],
   "source": [
    "day_score = round(totalscore)\n",
    "day_score"
   ]
  },
  {
   "cell_type": "markdown",
   "metadata": {},
   "source": [
    "# Test"
   ]
  },
  {
   "cell_type": "markdown",
   "metadata": {},
   "source": [
    "The test is inside the function marked by ''' , this is space sensative so data must match the alighment."
   ]
  },
  {
   "cell_type": "code",
   "execution_count": 553,
   "metadata": {},
   "outputs": [
    {
     "data": {
      "text/plain": [
       "23"
      ]
     },
     "execution_count": 553,
     "metadata": {},
     "output_type": "execute_result"
    }
   ],
   "source": [
    "data_length"
   ]
  },
  {
   "cell_type": "code",
   "execution_count": 554,
   "metadata": {},
   "outputs": [
    {
     "data": {
      "text/plain": [
       "SwH                                                       45.8\n",
       "SwP                                                      302.2\n",
       "WWH                                                       13.4\n",
       "WWP                                                      102.5\n",
       "SwD                 WSWWSWWWWWWWWWNWWWSWWWSWWWSWWWWSWWNWWWWNWW\n",
       "WWD          SSWSSWSSWSSWSSWSSWSSWSSWSSWSSWSSWSSSSSSSWSWSWS...\n",
       "Date         2019-03-212019-03-212019-03-212019-03-212019-0...\n",
       "Wave                                                    577.75\n",
       "scoreWWD                                                    36\n",
       "scoreWave                                                   80\n",
       "scoreSwP                                                    96\n",
       "dtype: object"
      ]
     },
     "execution_count": 554,
     "metadata": {},
     "output_type": "execute_result"
    }
   ],
   "source": [
    "data_table.apply(np.sum, axis=0)"
   ]
  },
  {
   "cell_type": "code",
   "execution_count": 555,
   "metadata": {},
   "outputs": [
    {
     "data": {
      "text/plain": [
       "scoreWWD     1.500000\n",
       "scoreWave    3.333333\n",
       "scoreSwP     4.000000\n",
       "dtype: float64"
      ]
     },
     "execution_count": 555,
     "metadata": {},
     "output_type": "execute_result"
    }
   ],
   "source": [
    "data_table[['scoreWWD','scoreWave','scoreSwP']].mean()"
   ]
  },
  {
   "cell_type": "code",
   "execution_count": 563,
   "metadata": {},
   "outputs": [],
   "source": [
    "def total(column): \n",
    "    '''\n",
    "    This is a test:\n",
    "    >>> total('scoreWWD') \n",
    "    36\n",
    "    \n",
    "     This is a test:\n",
    "    >>> total('scoreWave') \n",
    "    80\n",
    "    \n",
    "    This is a test:\n",
    "    >>> total('scoreSwP') \n",
    "    96\n",
    "    '''\n",
    "    score = data_table[column].sum()\n",
    "    return round(score)"
   ]
  },
  {
   "cell_type": "code",
   "execution_count": 570,
   "metadata": {},
   "outputs": [],
   "source": [
    "def total_avg(column): \n",
    "    '''\n",
    "    This is a test:\n",
    "    >>> total_avg('scoreWWD') \n",
    "    2.0\n",
    "    \n",
    "    This is a test:\n",
    "    >>> total_avg('scoreWave') \n",
    "    3.0\n",
    "    \n",
    "    This is a test:\n",
    "    >>> total_avg('scoreSwP') \n",
    "    4.0\n",
    "    '''\n",
    "    score = data_table[column].sum()/(data_length)\n",
    "    return round(score)"
   ]
  },
  {
   "cell_type": "code",
   "execution_count": 571,
   "metadata": {},
   "outputs": [
    {
     "data": {
      "text/plain": [
       "36"
      ]
     },
     "execution_count": 571,
     "metadata": {},
     "output_type": "execute_result"
    }
   ],
   "source": [
    "total('scoreWWD')"
   ]
  },
  {
   "cell_type": "code",
   "execution_count": 572,
   "metadata": {},
   "outputs": [
    {
     "data": {
      "text/plain": [
       "2.0"
      ]
     },
     "execution_count": 572,
     "metadata": {},
     "output_type": "execute_result"
    }
   ],
   "source": [
    "total_avg('scoreWWD')"
   ]
  },
  {
   "cell_type": "code",
   "execution_count": 573,
   "metadata": {},
   "outputs": [
    {
     "data": {
      "text/plain": [
       "3.0"
      ]
     },
     "execution_count": 573,
     "metadata": {},
     "output_type": "execute_result"
    }
   ],
   "source": [
    "total_avg('scoreWave')"
   ]
  },
  {
   "cell_type": "code",
   "execution_count": 574,
   "metadata": {},
   "outputs": [
    {
     "data": {
      "text/plain": [
       "4.0"
      ]
     },
     "execution_count": 574,
     "metadata": {},
     "output_type": "execute_result"
    }
   ],
   "source": [
    "total_avg('scoreSwP')"
   ]
  },
  {
   "cell_type": "code",
   "execution_count": 575,
   "metadata": {},
   "outputs": [
    {
     "name": "stdout",
     "output_type": "stream",
     "text": [
      "Trying:\n",
      "    scoreSwp(16)\n",
      "Expecting:\n",
      "    5\n",
      "ok\n",
      "Trying:\n",
      "    scoreSwp(15)\n",
      "Expecting:\n",
      "    4\n",
      "ok\n",
      "Trying:\n",
      "    scoreSwp(10)\n",
      "Expecting:\n",
      "    4\n",
      "ok\n",
      "Trying:\n",
      "    scoreSwp(5)\n",
      "Expecting:\n",
      "    1\n",
      "ok\n",
      "Trying:\n",
      "    scoreWave(31)\n",
      "Expecting:\n",
      "    5\n",
      "ok\n",
      "Trying:\n",
      "    scoreWave(30)\n",
      "Expecting:\n",
      "    4\n",
      "ok\n",
      "Trying:\n",
      "    scoreWave(11)\n",
      "Expecting:\n",
      "    2\n",
      "ok\n",
      "Trying:\n",
      "    scoreWave(5)\n",
      "Expecting:\n",
      "    1\n",
      "ok\n",
      "Trying:\n",
      "    total('scoreWWD') \n",
      "Expecting:\n",
      "    36\n",
      "ok\n",
      "Trying:\n",
      "    total('scoreWave') \n",
      "Expecting:\n",
      "    80\n",
      "ok\n",
      "Trying:\n",
      "    total('scoreSwP') \n",
      "Expecting:\n",
      "    96\n",
      "ok\n",
      "Trying:\n",
      "    total_avg('scoreWWD') \n",
      "Expecting:\n",
      "    2.0\n",
      "ok\n",
      "Trying:\n",
      "    total_avg('scoreWave') \n",
      "Expecting:\n",
      "    3.0\n",
      "ok\n",
      "Trying:\n",
      "    total_avg('scoreSwP') \n",
      "Expecting:\n",
      "    4.0\n",
      "ok\n",
      "1 items had no tests:\n",
      "    __main__\n",
      "4 items passed all tests:\n",
      "   4 tests in __main__.scoreSwp\n",
      "   4 tests in __main__.scoreWave\n",
      "   3 tests in __main__.total\n",
      "   3 tests in __main__.total_avg\n",
      "14 tests in 5 items.\n",
      "14 passed and 0 failed.\n",
      "Test passed.\n"
     ]
    },
    {
     "data": {
      "text/plain": [
       "TestResults(failed=0, attempted=14)"
      ]
     },
     "execution_count": 575,
     "metadata": {},
     "output_type": "execute_result"
    }
   ],
   "source": [
    "import doctest\n",
    "doctest.testmod(verbose=True)"
   ]
  },
  {
   "cell_type": "markdown",
   "metadata": {},
   "source": [
    "# UI"
   ]
  },
  {
   "cell_type": "code",
   "execution_count": null,
   "metadata": {},
   "outputs": [],
   "source": []
  }
 ],
 "metadata": {
  "kernelspec": {
   "display_name": "Python 3",
   "language": "python",
   "name": "python3"
  },
  "language_info": {
   "codemirror_mode": {
    "name": "ipython",
    "version": 3
   },
   "file_extension": ".py",
   "mimetype": "text/x-python",
   "name": "python",
   "nbconvert_exporter": "python",
   "pygments_lexer": "ipython3",
   "version": "3.7.1"
  }
 },
 "nbformat": 4,
 "nbformat_minor": 2
}
