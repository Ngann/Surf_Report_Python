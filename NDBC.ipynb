{
 "cells": [
  {
   "cell_type": "code",
   "execution_count": 345,
   "metadata": {},
   "outputs": [],
   "source": [
    "import numpy as np\n",
    "import pandas as pd\n",
    "import re\n",
    "import datetime"
   ]
  },
  {
   "cell_type": "markdown",
   "metadata": {},
   "source": [
    "# Code"
   ]
  },
  {
   "cell_type": "code",
   "execution_count": 346,
   "metadata": {},
   "outputs": [],
   "source": [
    "data = 'https://www.ndbc.noaa.gov/data/realtime2/46029.spec'\n",
    "article_read = pd.read_csv(data, sep='\\s+', delimiter=' ', encoding=\"utf-8\", skipinitialspace=True)"
   ]
  },
  {
   "cell_type": "code",
   "execution_count": 347,
   "metadata": {},
   "outputs": [
    {
     "data": {
      "text/html": [
       "<div>\n",
       "<style scoped>\n",
       "    .dataframe tbody tr th:only-of-type {\n",
       "        vertical-align: middle;\n",
       "    }\n",
       "\n",
       "    .dataframe tbody tr th {\n",
       "        vertical-align: top;\n",
       "    }\n",
       "\n",
       "    .dataframe thead th {\n",
       "        text-align: right;\n",
       "    }\n",
       "</style>\n",
       "<table border=\"1\" class=\"dataframe\">\n",
       "  <thead>\n",
       "    <tr style=\"text-align: right;\">\n",
       "      <th></th>\n",
       "      <th>#YY</th>\n",
       "      <th>MM</th>\n",
       "      <th>DD</th>\n",
       "      <th>hh</th>\n",
       "      <th>mm</th>\n",
       "      <th>WVHT</th>\n",
       "      <th>SwH</th>\n",
       "      <th>SwP</th>\n",
       "      <th>WWH</th>\n",
       "      <th>WWP</th>\n",
       "      <th>SwD</th>\n",
       "      <th>WWD</th>\n",
       "      <th>STEEPNESS</th>\n",
       "      <th>APD</th>\n",
       "      <th>MWD</th>\n",
       "    </tr>\n",
       "  </thead>\n",
       "  <tbody>\n",
       "    <tr>\n",
       "      <th>0</th>\n",
       "      <td>#yr</td>\n",
       "      <td>mo</td>\n",
       "      <td>dy</td>\n",
       "      <td>hr</td>\n",
       "      <td>mn</td>\n",
       "      <td>m</td>\n",
       "      <td>m</td>\n",
       "      <td>sec</td>\n",
       "      <td>m</td>\n",
       "      <td>sec</td>\n",
       "      <td>-</td>\n",
       "      <td>degT</td>\n",
       "      <td>-</td>\n",
       "      <td>sec</td>\n",
       "      <td>degT</td>\n",
       "    </tr>\n",
       "    <tr>\n",
       "      <th>1</th>\n",
       "      <td>2019</td>\n",
       "      <td>03</td>\n",
       "      <td>21</td>\n",
       "      <td>22</td>\n",
       "      <td>00</td>\n",
       "      <td>1.8</td>\n",
       "      <td>1.7</td>\n",
       "      <td>12.9</td>\n",
       "      <td>0.6</td>\n",
       "      <td>4.2</td>\n",
       "      <td>WSW</td>\n",
       "      <td>SSW</td>\n",
       "      <td>SWELL</td>\n",
       "      <td>7.2</td>\n",
       "      <td>243</td>\n",
       "    </tr>\n",
       "    <tr>\n",
       "      <th>2</th>\n",
       "      <td>2019</td>\n",
       "      <td>03</td>\n",
       "      <td>21</td>\n",
       "      <td>21</td>\n",
       "      <td>00</td>\n",
       "      <td>1.7</td>\n",
       "      <td>1.6</td>\n",
       "      <td>12.1</td>\n",
       "      <td>0.6</td>\n",
       "      <td>4.8</td>\n",
       "      <td>W</td>\n",
       "      <td>SSW</td>\n",
       "      <td>SWELL</td>\n",
       "      <td>7.2</td>\n",
       "      <td>280</td>\n",
       "    </tr>\n",
       "    <tr>\n",
       "      <th>3</th>\n",
       "      <td>2019</td>\n",
       "      <td>03</td>\n",
       "      <td>21</td>\n",
       "      <td>20</td>\n",
       "      <td>00</td>\n",
       "      <td>1.9</td>\n",
       "      <td>1.8</td>\n",
       "      <td>12.1</td>\n",
       "      <td>0.6</td>\n",
       "      <td>3.8</td>\n",
       "      <td>WSW</td>\n",
       "      <td>S</td>\n",
       "      <td>SWELL</td>\n",
       "      <td>7.4</td>\n",
       "      <td>245</td>\n",
       "    </tr>\n",
       "    <tr>\n",
       "      <th>4</th>\n",
       "      <td>2019</td>\n",
       "      <td>03</td>\n",
       "      <td>21</td>\n",
       "      <td>19</td>\n",
       "      <td>00</td>\n",
       "      <td>1.9</td>\n",
       "      <td>1.8</td>\n",
       "      <td>12.9</td>\n",
       "      <td>0.7</td>\n",
       "      <td>5.3</td>\n",
       "      <td>W</td>\n",
       "      <td>SW</td>\n",
       "      <td>SWELL</td>\n",
       "      <td>7.3</td>\n",
       "      <td>270</td>\n",
       "    </tr>\n",
       "  </tbody>\n",
       "</table>\n",
       "</div>"
      ],
      "text/plain": [
       "    #YY  MM  DD  hh  mm WVHT  SwH   SwP  WWH  WWP  SwD   WWD STEEPNESS  APD  \\\n",
       "0   #yr  mo  dy  hr  mn    m    m   sec    m  sec    -  degT         -  sec   \n",
       "1  2019  03  21  22  00  1.8  1.7  12.9  0.6  4.2  WSW   SSW     SWELL  7.2   \n",
       "2  2019  03  21  21  00  1.7  1.6  12.1  0.6  4.8    W   SSW     SWELL  7.2   \n",
       "3  2019  03  21  20  00  1.9  1.8  12.1  0.6  3.8  WSW     S     SWELL  7.4   \n",
       "4  2019  03  21  19  00  1.9  1.8  12.9  0.7  5.3    W    SW     SWELL  7.3   \n",
       "\n",
       "    MWD  \n",
       "0  degT  \n",
       "1   243  \n",
       "2   280  \n",
       "3   245  \n",
       "4   270  "
      ]
     },
     "execution_count": 347,
     "metadata": {},
     "output_type": "execute_result"
    }
   ],
   "source": [
    "article_read.head()"
   ]
  },
  {
   "cell_type": "code",
   "execution_count": 348,
   "metadata": {},
   "outputs": [],
   "source": [
    "short_table = article_read.drop(article_read.iloc[:,3:6,], axis=1)"
   ]
  },
  {
   "cell_type": "code",
   "execution_count": 349,
   "metadata": {},
   "outputs": [],
   "source": [
    "short_table = short_table.drop(['STEEPNESS', 'APD', 'MWD'], axis=1)"
   ]
  },
  {
   "cell_type": "code",
   "execution_count": 350,
   "metadata": {},
   "outputs": [
    {
     "data": {
      "text/plain": [
       "'2019-03-21'"
      ]
     },
     "execution_count": 350,
     "metadata": {},
     "output_type": "execute_result"
    }
   ],
   "source": [
    "d = datetime.datetime.today().strftime('%Y-%m-%d')\n",
    "d"
   ]
  },
  {
   "cell_type": "code",
   "execution_count": 351,
   "metadata": {},
   "outputs": [
    {
     "data": {
      "text/plain": [
       "datetime.date(2019, 3, 21)"
      ]
     },
     "execution_count": 351,
     "metadata": {},
     "output_type": "execute_result"
    }
   ],
   "source": [
    "today_date = datetime.date.today()\n",
    "today_date"
   ]
  },
  {
   "cell_type": "code",
   "execution_count": 352,
   "metadata": {},
   "outputs": [],
   "source": [
    "short_table = short_table.rename(columns={'#YY': 'YY'})"
   ]
  },
  {
   "cell_type": "code",
   "execution_count": 353,
   "metadata": {},
   "outputs": [],
   "source": [
    "date = (short_table.YY + '-' + short_table.MM + '-' + short_table.DD)\n",
    "short_table['Date'] = date"
   ]
  },
  {
   "cell_type": "code",
   "execution_count": 354,
   "metadata": {},
   "outputs": [],
   "source": [
    "data_table = short_table.drop(short_table.columns[[0,1,2]], axis=1)\n",
    "data_table = data_table[data_table['Date']==d]"
   ]
  },
  {
   "cell_type": "code",
   "execution_count": 355,
   "metadata": {},
   "outputs": [],
   "source": [
    "data_table['SwH'] = data_table.SwH.astype(float)\n",
    "data_table['SwP'] = data_table.SwP.astype(float)\n",
    "data_table['WWH'] = data_table.WWH.astype(float)\n",
    "data_table['WWP'] = data_table.WWP.astype(float)"
   ]
  },
  {
   "cell_type": "code",
   "execution_count": 356,
   "metadata": {},
   "outputs": [
    {
     "data": {
      "text/plain": [
       "SwH     float64\n",
       "SwP     float64\n",
       "WWH     float64\n",
       "WWP     float64\n",
       "SwD      object\n",
       "WWD      object\n",
       "Date     object\n",
       "dtype: object"
      ]
     },
     "execution_count": 356,
     "metadata": {},
     "output_type": "execute_result"
    }
   ],
   "source": [
    "data_table.dtypes"
   ]
  },
  {
   "cell_type": "code",
   "execution_count": 357,
   "metadata": {},
   "outputs": [],
   "source": [
    "wave = data_table.SwH * data_table.SwP\n",
    "data_table['Wave'] = wave"
   ]
  },
  {
   "cell_type": "code",
   "execution_count": 358,
   "metadata": {},
   "outputs": [
    {
     "data": {
      "text/plain": [
       "array(['degT', 'SSW', 'S', 'SW', 'ESE', 'SSE', 'SE', 'E', 'WSW', 'ENE',\n",
       "       'N', 'W', 'NNE', 'WNW', 'NE', 'NW', 'NNW'], dtype=object)"
      ]
     },
     "execution_count": 358,
     "metadata": {},
     "output_type": "execute_result"
    }
   ],
   "source": [
    "article_read.WWD.unique()"
   ]
  },
  {
   "cell_type": "code",
   "execution_count": 359,
   "metadata": {},
   "outputs": [
    {
     "data": {
      "text/html": [
       "<div>\n",
       "<style scoped>\n",
       "    .dataframe tbody tr th:only-of-type {\n",
       "        vertical-align: middle;\n",
       "    }\n",
       "\n",
       "    .dataframe tbody tr th {\n",
       "        vertical-align: top;\n",
       "    }\n",
       "\n",
       "    .dataframe thead th {\n",
       "        text-align: right;\n",
       "    }\n",
       "</style>\n",
       "<table border=\"1\" class=\"dataframe\">\n",
       "  <thead>\n",
       "    <tr style=\"text-align: right;\">\n",
       "      <th></th>\n",
       "      <th>WWD</th>\n",
       "      <th>scoreWWD</th>\n",
       "    </tr>\n",
       "  </thead>\n",
       "  <tbody>\n",
       "    <tr>\n",
       "      <th>0</th>\n",
       "      <td>SW</td>\n",
       "      <td>1</td>\n",
       "    </tr>\n",
       "    <tr>\n",
       "      <th>1</th>\n",
       "      <td>SSW</td>\n",
       "      <td>1</td>\n",
       "    </tr>\n",
       "    <tr>\n",
       "      <th>2</th>\n",
       "      <td>S</td>\n",
       "      <td>3</td>\n",
       "    </tr>\n",
       "    <tr>\n",
       "      <th>3</th>\n",
       "      <td>ESE</td>\n",
       "      <td>1</td>\n",
       "    </tr>\n",
       "    <tr>\n",
       "      <th>4</th>\n",
       "      <td>SSE</td>\n",
       "      <td>1</td>\n",
       "    </tr>\n",
       "  </tbody>\n",
       "</table>\n",
       "</div>"
      ],
      "text/plain": [
       "   WWD  scoreWWD\n",
       "0   SW         1\n",
       "1  SSW         1\n",
       "2    S         3\n",
       "3  ESE         1\n",
       "4  SSE         1"
      ]
     },
     "execution_count": 359,
     "metadata": {},
     "output_type": "execute_result"
    }
   ],
   "source": [
    "wwd = pd.DataFrame({\"WWD\": [ 'SW', 'SSW', 'S', 'ESE', 'SSE', 'SE', 'E', 'WSW', 'ENE',\n",
    "       'N', 'W', 'NNE', 'WNW', 'NE', 'NW', 'NNW' ], \"scoreWWD\": [1, 1, 3 ,1 ,1 ,4 ,5 ,1 ,1 ,1 ,1 ,1 , 1, 4,1,1]})\n",
    "wwd.head()"
   ]
  },
  {
   "cell_type": "code",
   "execution_count": 360,
   "metadata": {},
   "outputs": [
    {
     "data": {
      "text/html": [
       "<div>\n",
       "<style scoped>\n",
       "    .dataframe tbody tr th:only-of-type {\n",
       "        vertical-align: middle;\n",
       "    }\n",
       "\n",
       "    .dataframe tbody tr th {\n",
       "        vertical-align: top;\n",
       "    }\n",
       "\n",
       "    .dataframe thead th {\n",
       "        text-align: right;\n",
       "    }\n",
       "</style>\n",
       "<table border=\"1\" class=\"dataframe\">\n",
       "  <thead>\n",
       "    <tr style=\"text-align: right;\">\n",
       "      <th></th>\n",
       "      <th>SwH</th>\n",
       "      <th>SwP</th>\n",
       "      <th>WWH</th>\n",
       "      <th>WWP</th>\n",
       "      <th>SwD</th>\n",
       "      <th>WWD</th>\n",
       "      <th>Date</th>\n",
       "      <th>Wave</th>\n",
       "      <th>scoreWWD</th>\n",
       "    </tr>\n",
       "  </thead>\n",
       "  <tbody>\n",
       "    <tr>\n",
       "      <th>0</th>\n",
       "      <td>1.7</td>\n",
       "      <td>12.9</td>\n",
       "      <td>0.6</td>\n",
       "      <td>4.2</td>\n",
       "      <td>WSW</td>\n",
       "      <td>SSW</td>\n",
       "      <td>2019-03-21</td>\n",
       "      <td>21.93</td>\n",
       "      <td>1</td>\n",
       "    </tr>\n",
       "    <tr>\n",
       "      <th>1</th>\n",
       "      <td>1.6</td>\n",
       "      <td>12.1</td>\n",
       "      <td>0.6</td>\n",
       "      <td>4.8</td>\n",
       "      <td>W</td>\n",
       "      <td>SSW</td>\n",
       "      <td>2019-03-21</td>\n",
       "      <td>19.36</td>\n",
       "      <td>1</td>\n",
       "    </tr>\n",
       "    <tr>\n",
       "      <th>2</th>\n",
       "      <td>1.8</td>\n",
       "      <td>10.8</td>\n",
       "      <td>0.6</td>\n",
       "      <td>3.7</td>\n",
       "      <td>W</td>\n",
       "      <td>SSW</td>\n",
       "      <td>2019-03-21</td>\n",
       "      <td>19.44</td>\n",
       "      <td>1</td>\n",
       "    </tr>\n",
       "    <tr>\n",
       "      <th>3</th>\n",
       "      <td>2.1</td>\n",
       "      <td>12.1</td>\n",
       "      <td>0.5</td>\n",
       "      <td>3.6</td>\n",
       "      <td>W</td>\n",
       "      <td>SSW</td>\n",
       "      <td>2019-03-21</td>\n",
       "      <td>25.41</td>\n",
       "      <td>1</td>\n",
       "    </tr>\n",
       "    <tr>\n",
       "      <th>4</th>\n",
       "      <td>2.1</td>\n",
       "      <td>12.1</td>\n",
       "      <td>0.5</td>\n",
       "      <td>5.0</td>\n",
       "      <td>W</td>\n",
       "      <td>SSW</td>\n",
       "      <td>2019-03-21</td>\n",
       "      <td>25.41</td>\n",
       "      <td>1</td>\n",
       "    </tr>\n",
       "  </tbody>\n",
       "</table>\n",
       "</div>"
      ],
      "text/plain": [
       "   SwH   SwP  WWH  WWP  SwD  WWD        Date   Wave  scoreWWD\n",
       "0  1.7  12.9  0.6  4.2  WSW  SSW  2019-03-21  21.93         1\n",
       "1  1.6  12.1  0.6  4.8    W  SSW  2019-03-21  19.36         1\n",
       "2  1.8  10.8  0.6  3.7    W  SSW  2019-03-21  19.44         1\n",
       "3  2.1  12.1  0.5  3.6    W  SSW  2019-03-21  25.41         1\n",
       "4  2.1  12.1  0.5  5.0    W  SSW  2019-03-21  25.41         1"
      ]
     },
     "execution_count": 360,
     "metadata": {},
     "output_type": "execute_result"
    }
   ],
   "source": [
    "data_table =pd.merge(data_table, wwd)\n",
    "data_table.head()"
   ]
  },
  {
   "cell_type": "code",
   "execution_count": 361,
   "metadata": {},
   "outputs": [],
   "source": [
    "def scoreWave(column): \n",
    "    '''\n",
    "    This is a test:\n",
    "    >>> scoreWave(25)\n",
    "    4\n",
    "    '''\n",
    "    \n",
    "    if column > 30 :\n",
    "        score = 5\n",
    "    elif column >= 25 :\n",
    "        score = 4\n",
    "    elif column >= 20 :\n",
    "        score = 3\n",
    "    elif column >= 11 :\n",
    "        score = 2\n",
    "    else:\n",
    "        score =1\n",
    "    return score "
   ]
  },
  {
   "cell_type": "code",
   "execution_count": 362,
   "metadata": {},
   "outputs": [],
   "source": [
    "def scoreSwp(column):\n",
    "    '''\n",
    "    This is a test:\n",
    "    >>> scoreSwp(12)\n",
    "    4\n",
    "    '''\n",
    "        \n",
    "    if column >= 16 :\n",
    "        score = 5\n",
    "    elif column >= 12 :\n",
    "        score = 4\n",
    "    elif column >= 10 :\n",
    "        score = 4\n",
    "    else:\n",
    "        score =1\n",
    "    return score "
   ]
  },
  {
   "cell_type": "code",
   "execution_count": 363,
   "metadata": {},
   "outputs": [],
   "source": [
    "data_table['scoreWave'] = data_table['Wave'].map(scoreWave)"
   ]
  },
  {
   "cell_type": "code",
   "execution_count": 364,
   "metadata": {},
   "outputs": [],
   "source": [
    "data_table['scoreSwP'] = data_table['SwP'].map(scoreSwp)"
   ]
  },
  {
   "cell_type": "code",
   "execution_count": 365,
   "metadata": {},
   "outputs": [],
   "source": [
    "data_table['Score'] = data_table.iloc[:, 8:11].sum(axis=1)"
   ]
  },
  {
   "cell_type": "code",
   "execution_count": 366,
   "metadata": {},
   "outputs": [
    {
     "data": {
      "text/plain": [
       "22"
      ]
     },
     "execution_count": 366,
     "metadata": {},
     "output_type": "execute_result"
    }
   ],
   "source": [
    "data_length = len(data_table)-1\n",
    "data_length"
   ]
  },
  {
   "cell_type": "code",
   "execution_count": 367,
   "metadata": {},
   "outputs": [
    {
     "data": {
      "text/html": [
       "<div>\n",
       "<style scoped>\n",
       "    .dataframe tbody tr th:only-of-type {\n",
       "        vertical-align: middle;\n",
       "    }\n",
       "\n",
       "    .dataframe tbody tr th {\n",
       "        vertical-align: top;\n",
       "    }\n",
       "\n",
       "    .dataframe thead th {\n",
       "        text-align: right;\n",
       "    }\n",
       "</style>\n",
       "<table border=\"1\" class=\"dataframe\">\n",
       "  <thead>\n",
       "    <tr style=\"text-align: right;\">\n",
       "      <th></th>\n",
       "      <th>SwH</th>\n",
       "      <th>SwP</th>\n",
       "      <th>WWH</th>\n",
       "      <th>WWP</th>\n",
       "      <th>SwD</th>\n",
       "      <th>WWD</th>\n",
       "      <th>Date</th>\n",
       "      <th>Wave</th>\n",
       "      <th>scoreWWD</th>\n",
       "      <th>scoreWave</th>\n",
       "      <th>scoreSwP</th>\n",
       "      <th>Score</th>\n",
       "    </tr>\n",
       "  </thead>\n",
       "  <tbody>\n",
       "    <tr>\n",
       "      <th>0</th>\n",
       "      <td>1.7</td>\n",
       "      <td>12.9</td>\n",
       "      <td>0.6</td>\n",
       "      <td>4.2</td>\n",
       "      <td>WSW</td>\n",
       "      <td>SSW</td>\n",
       "      <td>2019-03-21</td>\n",
       "      <td>21.93</td>\n",
       "      <td>1</td>\n",
       "      <td>3</td>\n",
       "      <td>4</td>\n",
       "      <td>8</td>\n",
       "    </tr>\n",
       "    <tr>\n",
       "      <th>1</th>\n",
       "      <td>1.6</td>\n",
       "      <td>12.1</td>\n",
       "      <td>0.6</td>\n",
       "      <td>4.8</td>\n",
       "      <td>W</td>\n",
       "      <td>SSW</td>\n",
       "      <td>2019-03-21</td>\n",
       "      <td>19.36</td>\n",
       "      <td>1</td>\n",
       "      <td>2</td>\n",
       "      <td>4</td>\n",
       "      <td>7</td>\n",
       "    </tr>\n",
       "    <tr>\n",
       "      <th>2</th>\n",
       "      <td>1.8</td>\n",
       "      <td>10.8</td>\n",
       "      <td>0.6</td>\n",
       "      <td>3.7</td>\n",
       "      <td>W</td>\n",
       "      <td>SSW</td>\n",
       "      <td>2019-03-21</td>\n",
       "      <td>19.44</td>\n",
       "      <td>1</td>\n",
       "      <td>2</td>\n",
       "      <td>4</td>\n",
       "      <td>7</td>\n",
       "    </tr>\n",
       "    <tr>\n",
       "      <th>3</th>\n",
       "      <td>2.1</td>\n",
       "      <td>12.1</td>\n",
       "      <td>0.5</td>\n",
       "      <td>3.6</td>\n",
       "      <td>W</td>\n",
       "      <td>SSW</td>\n",
       "      <td>2019-03-21</td>\n",
       "      <td>25.41</td>\n",
       "      <td>1</td>\n",
       "      <td>4</td>\n",
       "      <td>4</td>\n",
       "      <td>9</td>\n",
       "    </tr>\n",
       "    <tr>\n",
       "      <th>4</th>\n",
       "      <td>2.1</td>\n",
       "      <td>12.1</td>\n",
       "      <td>0.5</td>\n",
       "      <td>5.0</td>\n",
       "      <td>W</td>\n",
       "      <td>SSW</td>\n",
       "      <td>2019-03-21</td>\n",
       "      <td>25.41</td>\n",
       "      <td>1</td>\n",
       "      <td>4</td>\n",
       "      <td>4</td>\n",
       "      <td>9</td>\n",
       "    </tr>\n",
       "    <tr>\n",
       "      <th>5</th>\n",
       "      <td>2.0</td>\n",
       "      <td>13.8</td>\n",
       "      <td>0.5</td>\n",
       "      <td>4.5</td>\n",
       "      <td>W</td>\n",
       "      <td>SSW</td>\n",
       "      <td>2019-03-21</td>\n",
       "      <td>27.60</td>\n",
       "      <td>1</td>\n",
       "      <td>4</td>\n",
       "      <td>4</td>\n",
       "      <td>9</td>\n",
       "    </tr>\n",
       "    <tr>\n",
       "      <th>6</th>\n",
       "      <td>1.9</td>\n",
       "      <td>12.9</td>\n",
       "      <td>0.5</td>\n",
       "      <td>3.3</td>\n",
       "      <td>W</td>\n",
       "      <td>SSW</td>\n",
       "      <td>2019-03-21</td>\n",
       "      <td>24.51</td>\n",
       "      <td>1</td>\n",
       "      <td>3</td>\n",
       "      <td>4</td>\n",
       "      <td>8</td>\n",
       "    </tr>\n",
       "    <tr>\n",
       "      <th>7</th>\n",
       "      <td>1.9</td>\n",
       "      <td>12.9</td>\n",
       "      <td>0.8</td>\n",
       "      <td>3.3</td>\n",
       "      <td>W</td>\n",
       "      <td>SSW</td>\n",
       "      <td>2019-03-21</td>\n",
       "      <td>24.51</td>\n",
       "      <td>1</td>\n",
       "      <td>3</td>\n",
       "      <td>4</td>\n",
       "      <td>8</td>\n",
       "    </tr>\n",
       "    <tr>\n",
       "      <th>8</th>\n",
       "      <td>1.9</td>\n",
       "      <td>13.8</td>\n",
       "      <td>0.7</td>\n",
       "      <td>3.3</td>\n",
       "      <td>WNW</td>\n",
       "      <td>SSW</td>\n",
       "      <td>2019-03-21</td>\n",
       "      <td>26.22</td>\n",
       "      <td>1</td>\n",
       "      <td>4</td>\n",
       "      <td>4</td>\n",
       "      <td>9</td>\n",
       "    </tr>\n",
       "    <tr>\n",
       "      <th>9</th>\n",
       "      <td>2.1</td>\n",
       "      <td>13.8</td>\n",
       "      <td>0.3</td>\n",
       "      <td>4.5</td>\n",
       "      <td>W</td>\n",
       "      <td>SSW</td>\n",
       "      <td>2019-03-21</td>\n",
       "      <td>28.98</td>\n",
       "      <td>1</td>\n",
       "      <td>4</td>\n",
       "      <td>4</td>\n",
       "      <td>9</td>\n",
       "    </tr>\n",
       "    <tr>\n",
       "      <th>10</th>\n",
       "      <td>1.8</td>\n",
       "      <td>12.1</td>\n",
       "      <td>0.6</td>\n",
       "      <td>3.8</td>\n",
       "      <td>WSW</td>\n",
       "      <td>S</td>\n",
       "      <td>2019-03-21</td>\n",
       "      <td>21.78</td>\n",
       "      <td>3</td>\n",
       "      <td>3</td>\n",
       "      <td>4</td>\n",
       "      <td>10</td>\n",
       "    </tr>\n",
       "    <tr>\n",
       "      <th>11</th>\n",
       "      <td>1.8</td>\n",
       "      <td>10.8</td>\n",
       "      <td>0.6</td>\n",
       "      <td>3.6</td>\n",
       "      <td>W</td>\n",
       "      <td>S</td>\n",
       "      <td>2019-03-21</td>\n",
       "      <td>19.44</td>\n",
       "      <td>3</td>\n",
       "      <td>2</td>\n",
       "      <td>4</td>\n",
       "      <td>9</td>\n",
       "    </tr>\n",
       "    <tr>\n",
       "      <th>12</th>\n",
       "      <td>1.9</td>\n",
       "      <td>13.8</td>\n",
       "      <td>0.5</td>\n",
       "      <td>4.3</td>\n",
       "      <td>WSW</td>\n",
       "      <td>S</td>\n",
       "      <td>2019-03-21</td>\n",
       "      <td>26.22</td>\n",
       "      <td>3</td>\n",
       "      <td>4</td>\n",
       "      <td>4</td>\n",
       "      <td>11</td>\n",
       "    </tr>\n",
       "    <tr>\n",
       "      <th>13</th>\n",
       "      <td>1.9</td>\n",
       "      <td>13.8</td>\n",
       "      <td>0.5</td>\n",
       "      <td>4.0</td>\n",
       "      <td>W</td>\n",
       "      <td>S</td>\n",
       "      <td>2019-03-21</td>\n",
       "      <td>26.22</td>\n",
       "      <td>3</td>\n",
       "      <td>4</td>\n",
       "      <td>4</td>\n",
       "      <td>11</td>\n",
       "    </tr>\n",
       "    <tr>\n",
       "      <th>14</th>\n",
       "      <td>1.9</td>\n",
       "      <td>13.8</td>\n",
       "      <td>0.5</td>\n",
       "      <td>4.3</td>\n",
       "      <td>WSW</td>\n",
       "      <td>S</td>\n",
       "      <td>2019-03-21</td>\n",
       "      <td>26.22</td>\n",
       "      <td>3</td>\n",
       "      <td>4</td>\n",
       "      <td>4</td>\n",
       "      <td>11</td>\n",
       "    </tr>\n",
       "    <tr>\n",
       "      <th>15</th>\n",
       "      <td>2.0</td>\n",
       "      <td>12.9</td>\n",
       "      <td>0.6</td>\n",
       "      <td>3.4</td>\n",
       "      <td>W</td>\n",
       "      <td>S</td>\n",
       "      <td>2019-03-21</td>\n",
       "      <td>25.80</td>\n",
       "      <td>3</td>\n",
       "      <td>4</td>\n",
       "      <td>4</td>\n",
       "      <td>11</td>\n",
       "    </tr>\n",
       "    <tr>\n",
       "      <th>16</th>\n",
       "      <td>1.8</td>\n",
       "      <td>12.9</td>\n",
       "      <td>0.7</td>\n",
       "      <td>5.3</td>\n",
       "      <td>W</td>\n",
       "      <td>SW</td>\n",
       "      <td>2019-03-21</td>\n",
       "      <td>23.22</td>\n",
       "      <td>1</td>\n",
       "      <td>3</td>\n",
       "      <td>4</td>\n",
       "      <td>8</td>\n",
       "    </tr>\n",
       "    <tr>\n",
       "      <th>17</th>\n",
       "      <td>2.0</td>\n",
       "      <td>10.8</td>\n",
       "      <td>0.6</td>\n",
       "      <td>5.6</td>\n",
       "      <td>WSW</td>\n",
       "      <td>SW</td>\n",
       "      <td>2019-03-21</td>\n",
       "      <td>21.60</td>\n",
       "      <td>1</td>\n",
       "      <td>3</td>\n",
       "      <td>4</td>\n",
       "      <td>8</td>\n",
       "    </tr>\n",
       "    <tr>\n",
       "      <th>18</th>\n",
       "      <td>1.9</td>\n",
       "      <td>12.9</td>\n",
       "      <td>0.5</td>\n",
       "      <td>5.0</td>\n",
       "      <td>WNW</td>\n",
       "      <td>SW</td>\n",
       "      <td>2019-03-21</td>\n",
       "      <td>24.51</td>\n",
       "      <td>1</td>\n",
       "      <td>3</td>\n",
       "      <td>4</td>\n",
       "      <td>8</td>\n",
       "    </tr>\n",
       "    <tr>\n",
       "      <th>19</th>\n",
       "      <td>2.1</td>\n",
       "      <td>12.9</td>\n",
       "      <td>0.4</td>\n",
       "      <td>3.8</td>\n",
       "      <td>W</td>\n",
       "      <td>SW</td>\n",
       "      <td>2019-03-21</td>\n",
       "      <td>27.09</td>\n",
       "      <td>1</td>\n",
       "      <td>4</td>\n",
       "      <td>4</td>\n",
       "      <td>9</td>\n",
       "    </tr>\n",
       "    <tr>\n",
       "      <th>20</th>\n",
       "      <td>1.9</td>\n",
       "      <td>10.8</td>\n",
       "      <td>0.5</td>\n",
       "      <td>3.7</td>\n",
       "      <td>W</td>\n",
       "      <td>SW</td>\n",
       "      <td>2019-03-21</td>\n",
       "      <td>20.52</td>\n",
       "      <td>1</td>\n",
       "      <td>3</td>\n",
       "      <td>4</td>\n",
       "      <td>8</td>\n",
       "    </tr>\n",
       "    <tr>\n",
       "      <th>21</th>\n",
       "      <td>2.0</td>\n",
       "      <td>12.9</td>\n",
       "      <td>0.6</td>\n",
       "      <td>5.3</td>\n",
       "      <td>WNW</td>\n",
       "      <td>SW</td>\n",
       "      <td>2019-03-21</td>\n",
       "      <td>25.80</td>\n",
       "      <td>1</td>\n",
       "      <td>4</td>\n",
       "      <td>4</td>\n",
       "      <td>9</td>\n",
       "    </tr>\n",
       "    <tr>\n",
       "      <th>22</th>\n",
       "      <td>2.0</td>\n",
       "      <td>13.8</td>\n",
       "      <td>0.7</td>\n",
       "      <td>6.2</td>\n",
       "      <td>W</td>\n",
       "      <td>SW</td>\n",
       "      <td>2019-03-21</td>\n",
       "      <td>27.60</td>\n",
       "      <td>1</td>\n",
       "      <td>4</td>\n",
       "      <td>4</td>\n",
       "      <td>9</td>\n",
       "    </tr>\n",
       "  </tbody>\n",
       "</table>\n",
       "</div>"
      ],
      "text/plain": [
       "    SwH   SwP  WWH  WWP  SwD  WWD        Date   Wave  scoreWWD  scoreWave  \\\n",
       "0   1.7  12.9  0.6  4.2  WSW  SSW  2019-03-21  21.93         1          3   \n",
       "1   1.6  12.1  0.6  4.8    W  SSW  2019-03-21  19.36         1          2   \n",
       "2   1.8  10.8  0.6  3.7    W  SSW  2019-03-21  19.44         1          2   \n",
       "3   2.1  12.1  0.5  3.6    W  SSW  2019-03-21  25.41         1          4   \n",
       "4   2.1  12.1  0.5  5.0    W  SSW  2019-03-21  25.41         1          4   \n",
       "5   2.0  13.8  0.5  4.5    W  SSW  2019-03-21  27.60         1          4   \n",
       "6   1.9  12.9  0.5  3.3    W  SSW  2019-03-21  24.51         1          3   \n",
       "7   1.9  12.9  0.8  3.3    W  SSW  2019-03-21  24.51         1          3   \n",
       "8   1.9  13.8  0.7  3.3  WNW  SSW  2019-03-21  26.22         1          4   \n",
       "9   2.1  13.8  0.3  4.5    W  SSW  2019-03-21  28.98         1          4   \n",
       "10  1.8  12.1  0.6  3.8  WSW    S  2019-03-21  21.78         3          3   \n",
       "11  1.8  10.8  0.6  3.6    W    S  2019-03-21  19.44         3          2   \n",
       "12  1.9  13.8  0.5  4.3  WSW    S  2019-03-21  26.22         3          4   \n",
       "13  1.9  13.8  0.5  4.0    W    S  2019-03-21  26.22         3          4   \n",
       "14  1.9  13.8  0.5  4.3  WSW    S  2019-03-21  26.22         3          4   \n",
       "15  2.0  12.9  0.6  3.4    W    S  2019-03-21  25.80         3          4   \n",
       "16  1.8  12.9  0.7  5.3    W   SW  2019-03-21  23.22         1          3   \n",
       "17  2.0  10.8  0.6  5.6  WSW   SW  2019-03-21  21.60         1          3   \n",
       "18  1.9  12.9  0.5  5.0  WNW   SW  2019-03-21  24.51         1          3   \n",
       "19  2.1  12.9  0.4  3.8    W   SW  2019-03-21  27.09         1          4   \n",
       "20  1.9  10.8  0.5  3.7    W   SW  2019-03-21  20.52         1          3   \n",
       "21  2.0  12.9  0.6  5.3  WNW   SW  2019-03-21  25.80         1          4   \n",
       "22  2.0  13.8  0.7  6.2    W   SW  2019-03-21  27.60         1          4   \n",
       "\n",
       "    scoreSwP  Score  \n",
       "0          4      8  \n",
       "1          4      7  \n",
       "2          4      7  \n",
       "3          4      9  \n",
       "4          4      9  \n",
       "5          4      9  \n",
       "6          4      8  \n",
       "7          4      8  \n",
       "8          4      9  \n",
       "9          4      9  \n",
       "10         4     10  \n",
       "11         4      9  \n",
       "12         4     11  \n",
       "13         4     11  \n",
       "14         4     11  \n",
       "15         4     11  \n",
       "16         4      8  \n",
       "17         4      8  \n",
       "18         4      8  \n",
       "19         4      9  \n",
       "20         4      8  \n",
       "21         4      9  \n",
       "22         4      9  "
      ]
     },
     "execution_count": 367,
     "metadata": {},
     "output_type": "execute_result"
    }
   ],
   "source": [
    "data_table"
   ]
  },
  {
   "cell_type": "code",
   "execution_count": 368,
   "metadata": {},
   "outputs": [
    {
     "data": {
      "text/plain": [
       "9.318181818181818"
      ]
     },
     "execution_count": 368,
     "metadata": {},
     "output_type": "execute_result"
    }
   ],
   "source": [
    "totalscore = data_table['Score'].sum()/(len(data_table)-1)\n",
    "totalscore"
   ]
  },
  {
   "cell_type": "code",
   "execution_count": 369,
   "metadata": {},
   "outputs": [
    {
     "data": {
      "text/plain": [
       "9.0"
      ]
     },
     "execution_count": 369,
     "metadata": {},
     "output_type": "execute_result"
    }
   ],
   "source": [
    "day_score = round(totalscore)\n",
    "day_score"
   ]
  },
  {
   "cell_type": "markdown",
   "metadata": {},
   "source": [
    "# Test"
   ]
  },
  {
   "cell_type": "markdown",
   "metadata": {},
   "source": [
    "The test is inside the function marked by ''' , this is space sensative so data must match the alighment."
   ]
  },
  {
   "cell_type": "code",
   "execution_count": 382,
   "metadata": {},
   "outputs": [
    {
     "data": {
      "text/plain": [
       "22"
      ]
     },
     "execution_count": 382,
     "metadata": {},
     "output_type": "execute_result"
    }
   ],
   "source": [
    "data_length"
   ]
  },
  {
   "cell_type": "code",
   "execution_count": 383,
   "metadata": {},
   "outputs": [
    {
     "data": {
      "text/plain": [
       "SwH                                                       44.1\n",
       "SwP                                                      291.4\n",
       "WWH                                                       12.9\n",
       "WWP                                                       98.5\n",
       "SwD                    WSWWWWWWWWWNWWWSWWWSWWWSWWWWSWWNWWWWNWW\n",
       "WWD          SSWSSWSSWSSWSSWSSWSSWSSWSSWSSWSSSSSSSWSWSWSWSW...\n",
       "Date         2019-03-212019-03-212019-03-212019-03-212019-0...\n",
       "Wave                                                    559.39\n",
       "scoreWWD                                                    35\n",
       "scoreWave                                                   78\n",
       "scoreSwP                                                    92\n",
       "Score                                                      205\n",
       "dtype: object"
      ]
     },
     "execution_count": 383,
     "metadata": {},
     "output_type": "execute_result"
    }
   ],
   "source": [
    "data_table.apply(np.sum, axis=0)"
   ]
  },
  {
   "cell_type": "code",
   "execution_count": 384,
   "metadata": {},
   "outputs": [],
   "source": [
    "def total(column): \n",
    "    '''\n",
    "    This is a test:\n",
    "    >>> total('Score') \n",
    "    205\n",
    "    '''\n",
    "    score = data_table[column].sum()\n",
    "    return round(score)"
   ]
  },
  {
   "cell_type": "code",
   "execution_count": 385,
   "metadata": {},
   "outputs": [],
   "source": [
    "def total_avg(column): \n",
    "    '''\n",
    "    This is a test:\n",
    "    >>> total_avg('Score') \n",
    "    9.0\n",
    "    '''\n",
    "    score = data_table[column].sum()/(data_length)\n",
    "    return round(score)"
   ]
  },
  {
   "cell_type": "code",
   "execution_count": 386,
   "metadata": {},
   "outputs": [
    {
     "data": {
      "text/plain": [
       "205"
      ]
     },
     "execution_count": 386,
     "metadata": {},
     "output_type": "execute_result"
    }
   ],
   "source": [
    "total('Score')"
   ]
  },
  {
   "cell_type": "code",
   "execution_count": 387,
   "metadata": {},
   "outputs": [
    {
     "data": {
      "text/plain": [
       "9.0"
      ]
     },
     "execution_count": 387,
     "metadata": {},
     "output_type": "execute_result"
    }
   ],
   "source": [
    "total_avg('Score')"
   ]
  },
  {
   "cell_type": "code",
   "execution_count": 388,
   "metadata": {},
   "outputs": [
    {
     "name": "stdout",
     "output_type": "stream",
     "text": [
      "Trying:\n",
      "    scoreSwp(12)\n",
      "Expecting:\n",
      "    4\n",
      "ok\n",
      "Trying:\n",
      "    scoreWave(25)\n",
      "Expecting:\n",
      "    4\n",
      "ok\n",
      "Trying:\n",
      "    total('Score') \n",
      "Expecting:\n",
      "    205\n",
      "ok\n",
      "Trying:\n",
      "    total_avg('Score') \n",
      "Expecting:\n",
      "    9.0\n",
      "ok\n",
      "1 items had no tests:\n",
      "    __main__\n",
      "4 items passed all tests:\n",
      "   1 tests in __main__.scoreSwp\n",
      "   1 tests in __main__.scoreWave\n",
      "   1 tests in __main__.total\n",
      "   1 tests in __main__.total_avg\n",
      "4 tests in 5 items.\n",
      "4 passed and 0 failed.\n",
      "Test passed.\n"
     ]
    },
    {
     "data": {
      "text/plain": [
       "TestResults(failed=0, attempted=4)"
      ]
     },
     "execution_count": 388,
     "metadata": {},
     "output_type": "execute_result"
    }
   ],
   "source": [
    "import doctest\n",
    "doctest.testmod(verbose=True)"
   ]
  },
  {
   "cell_type": "markdown",
   "metadata": {},
   "source": [
    "# UI"
   ]
  },
  {
   "cell_type": "code",
   "execution_count": null,
   "metadata": {},
   "outputs": [],
   "source": []
  }
 ],
 "metadata": {
  "kernelspec": {
   "display_name": "Python 3",
   "language": "python",
   "name": "python3"
  },
  "language_info": {
   "codemirror_mode": {
    "name": "ipython",
    "version": 3
   },
   "file_extension": ".py",
   "mimetype": "text/x-python",
   "name": "python",
   "nbconvert_exporter": "python",
   "pygments_lexer": "ipython3",
   "version": "3.7.1"
  }
 },
 "nbformat": 4,
 "nbformat_minor": 2
}
